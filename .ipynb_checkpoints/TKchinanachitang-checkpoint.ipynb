{
 "cells": [
  {
   "cell_type": "code",
   "execution_count": null,
   "id": "05a8db99",
   "metadata": {},
   "outputs": [],
   "source": [
    "import numpy as np\n",
    "import pandas as pd\n",
    "import re"
   ]
  },
  {
   "cell_type": "code",
   "execution_count": null,
   "id": "465a38fe",
   "metadata": {},
   "outputs": [],
   "source": [
    "pd.set_option('display.max_colwidth', None)"
   ]
  },
  {
   "cell_type": "code",
   "execution_count": null,
   "id": "806f9905",
   "metadata": {},
   "outputs": [],
   "source": [
    "# contract_id_list = [\"contract_\"+str(i) for i in range(150)]\n",
    "# contract_id_list"
   ]
  },
  {
   "cell_type": "code",
   "execution_count": null,
   "id": "4f097d3d",
   "metadata": {},
   "outputs": [],
   "source": [
    "data = pd.read_csv('C:/Users/chaitu/multi-modal-mna/contracts/train/contract_60.csv',encoding = \"utf-8\")\n",
    "data.head()"
   ]
  },
  {
   "cell_type": "code",
   "execution_count": null,
   "id": "59713dd6",
   "metadata": {},
   "outputs": [],
   "source": [
    "data[\"highlight_in_html\"] = \"\"\n",
    "data.head(5)"
   ]
  },
  {
   "cell_type": "code",
   "execution_count": null,
   "id": "7bb3fdcf",
   "metadata": {},
   "outputs": [],
   "source": [
    "data['text'] = data['text'].str.replace('“', '\" ')\n",
    "data['text'] = data['text'].str.replace('”', ' \"')"
   ]
  },
  {
   "cell_type": "code",
   "execution_count": null,
   "id": "c184c9d1",
   "metadata": {},
   "outputs": [],
   "source": [
    "concatenated_string = \" \".join(data[\"text\"])\n",
    "concatenated_string = concatenated_string.replace(\" .\", \".\")\n",
    "concatenated_string = concatenated_string.replace(\" ,\", \",\")\n",
    "concatenated_string = concatenated_string.replace('“', '\" ')\n",
    "concatenated_string = concatenated_string.replace('”', ' \"')\n",
    "concatenated_string = concatenated_string.replace(\"\\xa0\", \" \")\n",
    "concatenated_string = concatenated_string.replace('\"  ', '\"')\n",
    "concatenated_string = concatenated_string.replace('  \"', '\"')\n",
    "# concatenated_stirng = concatenated_string.replace(\"  \",\" \")\n",
    "# concatenated_string = re.sub(r'\"([^\"]*?)\"', lambda x: '\"' + x.group(1).strip() + '\"', concatenated_string)\n",
    "concatenated_string"
   ]
  },
  {
   "cell_type": "code",
   "execution_count": null,
   "id": "6fb0bdb6",
   "metadata": {},
   "outputs": [],
   "source": [
    "import json\n",
    "\n",
    "# Specify the path to your JSON file\n",
    "json_file_path = 'maud_squad_train.json'  # Replace 'your_json_file.json' with the actual file path\n",
    "\n",
    "# Open and read the JSON file\n",
    "with open(json_file_path, 'r') as json_file:\n",
    "    # Load and parse the JSON data\n",
    "    maud_data = json.load(json_file)"
   ]
  },
  {
   "cell_type": "code",
   "execution_count": null,
   "id": "02382ef2",
   "metadata": {},
   "outputs": [],
   "source": [
    "# contract_index_dict={\"contract_id\":[], \"index\":[]}\n",
    "# for i in range(len(maud_data[\"data\"])):\n",
    "#     contract_index_dict[\"contract_id\"].append(maud_data[\"data\"][i][\"title\"])\n",
    "#     contract_index_dict[\"index\"].append(i)"
   ]
  },
  {
   "cell_type": "code",
   "execution_count": null,
   "id": "0ad8df60",
   "metadata": {},
   "outputs": [],
   "source": [
    "# contract_df = pd.DataFrame(contract_index_dict)\n",
    "# contract_df.head(20)"
   ]
  },
  {
   "cell_type": "code",
   "execution_count": null,
   "id": "326c79f5",
   "metadata": {},
   "outputs": [],
   "source": [
    "def search_phrase(phrase):\n",
    "    start_index = concatenated_string.index(phrase)\n",
    "    print(start_index)\n",
    "    end_index = start_index + len(phrase)\n",
    "    corresponding_indices = []\n",
    "    len_sum = 0\n",
    "    end_pattern = r'\\s+\"$'\n",
    "    start_pattern = r'^\"\\s'\n",
    "    for idx, row in data.iterrows():\n",
    "        text = row[\"text\"]\n",
    "        start_match = re.match(start_pattern,text)\n",
    "        end_match = re.match(end_pattern,text)\n",
    "        \n",
    "        if (text.startswith(\".\") or text.startswith(\",\") or start_match) and not end_match:\n",
    "            len_sum += len(text)\n",
    "        elif (text.startswith(\".\") or text.startswith(\",\") or not start_match) and end_match:\n",
    "            len_sum += len(text)-1\n",
    "        elif not (text.startswith(\".\") or text.startswith(\",\") or start_match) and not end_match:\n",
    "            len_sum += len(text)+1\n",
    "        elif not (text.startswith(\".\") or text.startswith(\",\") or not start_match) and end_match:\n",
    "            len_sum += len(text) \n",
    "#         else:\n",
    "#             len_sum += len(text)+1\n",
    "        \n",
    "            \n",
    "        if start_index < len_sum:\n",
    "            corresponding_indices.append(idx)\n",
    "            data.loc[data.index==idx, 'highlight_in_html'] = 1\n",
    "            if end_index <= len_sum:\n",
    "                break\n",
    "    return corresponding_indices"
   ]
  },
  {
   "cell_type": "code",
   "execution_count": null,
   "id": "b5b491f8",
   "metadata": {},
   "outputs": [],
   "source": [
    "target_contract = maud_data[\"data\"][0][\"paragraphs\"][0][\"qas\"]\n",
    "for i in range(len(target_contract)):\n",
    "    if not target_contract[i][\"is_impossible\"]:\n",
    "        answers = target_contract[i][\"answers\"]\n",
    "        for j in range(len(answers)):\n",
    "            target_string = answers[j][\"text\"]\n",
    "            target_string = target_string.replace('“', '\"')\n",
    "            target_string = target_string.replace('”', '\"')\n",
    "            target_string = target_string.replace(\"  \",\" \")\n",
    "            print(target_string)\n",
    "            indices = search_phrase(target_string)\n",
    "            print(indices)"
   ]
  },
  {
   "cell_type": "code",
   "execution_count": null,
   "id": "e5dbcd0f",
   "metadata": {},
   "outputs": [],
   "source": [
    "target_string[4]"
   ]
  },
  {
   "cell_type": "code",
   "execution_count": null,
   "id": "65f4254b",
   "metadata": {},
   "outputs": [],
   "source": [
    "target_string = \"representation and warranty speaks as of a particular date, in which case such representation and warranty shall be true and correct\"\n",
    "start_index = concatenated_string.index(target_string)\n",
    "start_index"
   ]
  },
  {
   "cell_type": "code",
   "execution_count": null,
   "id": "b00b2f14",
   "metadata": {},
   "outputs": [],
   "source": [
    "concatenated_string[259829:259843]"
   ]
  },
  {
   "cell_type": "code",
   "execution_count": null,
   "id": "cd1633d2",
   "metadata": {},
   "outputs": [],
   "source": [
    "len_sum = 0\n",
    "total_rows = data.shape[0]\n",
    "text_list = []\n",
    "for i in range(total_rows):\n",
    "    target_text = data.loc[i,\"text\"]\n",
    "#     print(target_text)\n",
    "    text_list.append(target_text)\n",
    "    if target_text.startswith(\".\") or target_text.startswith(\",\"):\n",
    "        len_sum += len(target_text)\n",
    "    else: \n",
    "        len_sum += len(target_text)+1\n",
    "    if len_sum > 259716:\n",
    "        print(target_text)\n",
    "        break"
   ]
  },
  {
   "cell_type": "code",
   "execution_count": null,
   "id": "d1c2a233",
   "metadata": {},
   "outputs": [],
   "source": [
    "len_sum"
   ]
  },
  {
   "cell_type": "code",
   "execution_count": null,
   "id": "c5a44772",
   "metadata": {},
   "outputs": [],
   "source": [
    "a = data.loc[data.index==60][\"text\"]\n",
    "b = str(a)\n",
    "len(b)"
   ]
  },
  {
   "cell_type": "code",
   "execution_count": null,
   "id": "e93f4e55",
   "metadata": {},
   "outputs": [],
   "source": [
    "eg = '(the “ Bankruptcy and Equity Exception ”).'\n",
    "for i in range(len(eg)):\n",
    "    if eg[i] == '“':\n",
    "        print(\"space\",i)"
   ]
  },
  {
   "cell_type": "code",
   "execution_count": null,
   "id": "f57e788f",
   "metadata": {},
   "outputs": [],
   "source": []
  },
  {
   "cell_type": "code",
   "execution_count": null,
   "id": "4886fd4d",
   "metadata": {},
   "outputs": [],
   "source": []
  },
  {
   "cell_type": "code",
   "execution_count": null,
   "id": "fe615675",
   "metadata": {},
   "outputs": [],
   "source": []
  },
  {
   "cell_type": "code",
   "execution_count": null,
   "id": "5a42895f",
   "metadata": {},
   "outputs": [],
   "source": []
  }
 ],
 "metadata": {
  "kernelspec": {
   "display_name": "Python 3 (ipykernel)",
   "language": "python",
   "name": "python3"
  },
  "language_info": {
   "codemirror_mode": {
    "name": "ipython",
    "version": 3
   },
   "file_extension": ".py",
   "mimetype": "text/x-python",
   "name": "python",
   "nbconvert_exporter": "python",
   "pygments_lexer": "ipython3",
   "version": "3.9.12"
  }
 },
 "nbformat": 4,
 "nbformat_minor": 5
}
