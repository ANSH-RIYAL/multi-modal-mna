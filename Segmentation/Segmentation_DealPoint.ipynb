{
 "cells": [
  {
   "cell_type": "code",
   "execution_count": 1,
   "metadata": {
    "colab": {
     "base_uri": "https://localhost:8080/"
    },
    "id": "jtXSZcZ7LY8Z",
    "outputId": "1fef69d1-a485-40b9-ede6-870aaf5d3aea"
   },
   "outputs": [
    {
     "name": "stdout",
     "output_type": "stream",
     "text": [
      "Drive already mounted at /content/drive; to attempt to forcibly remount, call drive.mount(\"/content/drive\", force_remount=True).\n"
     ]
    }
   ],
   "source": [
    "from google.colab import drive\n",
    "drive.mount('/content/drive')"
   ]
  },
  {
   "cell_type": "code",
   "execution_count": 2,
   "metadata": {
    "id": "xsl7uxPXLecP"
   },
   "outputs": [],
   "source": [
    "import pandas as pd\n",
    "import numpy as np\n",
    "import json\n",
    "import os\n",
    "import time\n",
    "import logging\n",
    "import random\n",
    "import timeit\n",
    "import re\n",
    "\n",
    "import torch\n",
    "import tensorflow_datasets as tfds\n",
    "from torch.utils.data import DataLoader, SequentialSampler, RandomSampler\n",
    "from tqdm import tqdm, trange"
   ]
  },
  {
   "cell_type": "code",
   "execution_count": 3,
   "metadata": {
    "colab": {
     "base_uri": "https://localhost:8080/"
    },
    "id": "UdtXFqZgLikY",
    "outputId": "6e3bb326-7247-4b46-ef40-af2fba3a1535"
   },
   "outputs": [
    {
     "name": "stdout",
     "output_type": "stream",
     "text": [
      "Processing /content/drive/.shortcut-targets-by-id/1QI32qih1bmZh5-UISjuEypWke0vN6OZM/Capstone for Data Science/Segmentation/packages/transformers\n",
      "  Installing build dependencies ... \u001b[?25l\u001b[?25hdone\n",
      "  Getting requirements to build wheel ... \u001b[?25l\u001b[?25hdone\n",
      "  Preparing metadata (pyproject.toml) ... \u001b[?25l\u001b[?25hdone\n",
      "Requirement already satisfied: filelock in /usr/local/lib/python3.10/dist-packages (from transformers==4.35.0) (3.13.1)\n",
      "Requirement already satisfied: huggingface-hub<1.0,>=0.16.4 in /usr/local/lib/python3.10/dist-packages (from transformers==4.35.0) (0.17.3)\n",
      "Requirement already satisfied: numpy>=1.17 in /usr/local/lib/python3.10/dist-packages (from transformers==4.35.0) (1.23.5)\n",
      "Requirement already satisfied: packaging>=20.0 in /usr/local/lib/python3.10/dist-packages (from transformers==4.35.0) (23.2)\n",
      "Requirement already satisfied: pyyaml>=5.1 in /usr/local/lib/python3.10/dist-packages (from transformers==4.35.0) (6.0.1)\n",
      "Requirement already satisfied: regex!=2019.12.17 in /usr/local/lib/python3.10/dist-packages (from transformers==4.35.0) (2023.6.3)\n",
      "Requirement already satisfied: requests in /usr/local/lib/python3.10/dist-packages (from transformers==4.35.0) (2.31.0)\n",
      "Requirement already satisfied: tokenizers<0.15,>=0.14 in /usr/local/lib/python3.10/dist-packages (from transformers==4.35.0) (0.14.1)\n",
      "Requirement already satisfied: safetensors>=0.3.1 in /usr/local/lib/python3.10/dist-packages (from transformers==4.35.0) (0.4.1)\n",
      "Requirement already satisfied: tqdm>=4.27 in /usr/local/lib/python3.10/dist-packages (from transformers==4.35.0) (4.66.1)\n",
      "Requirement already satisfied: fsspec in /usr/local/lib/python3.10/dist-packages (from huggingface-hub<1.0,>=0.16.4->transformers==4.35.0) (2023.6.0)\n",
      "Requirement already satisfied: typing-extensions>=3.7.4.3 in /usr/local/lib/python3.10/dist-packages (from huggingface-hub<1.0,>=0.16.4->transformers==4.35.0) (4.5.0)\n",
      "Requirement already satisfied: charset-normalizer<4,>=2 in /usr/local/lib/python3.10/dist-packages (from requests->transformers==4.35.0) (3.3.2)\n",
      "Requirement already satisfied: idna<4,>=2.5 in /usr/local/lib/python3.10/dist-packages (from requests->transformers==4.35.0) (3.6)\n",
      "Requirement already satisfied: urllib3<3,>=1.21.1 in /usr/local/lib/python3.10/dist-packages (from requests->transformers==4.35.0) (2.0.7)\n",
      "Requirement already satisfied: certifi>=2017.4.17 in /usr/local/lib/python3.10/dist-packages (from requests->transformers==4.35.0) (2023.11.17)\n",
      "Building wheels for collected packages: transformers\n",
      "  Building wheel for transformers (pyproject.toml) ... \u001b[?25l\u001b[?25hdone\n",
      "  Created wheel for transformers: filename=transformers-4.35.0-py3-none-any.whl size=7921508 sha256=4855b6b9b8220272471791103ba3e4a40b1949c3f2584acb3ae006faf966d76d\n",
      "  Stored in directory: /tmp/pip-ephem-wheel-cache-f4iq1j9q/wheels/09/f5/59/f351c0d6234d19a2370502d81f95604cff211607558238f688\n",
      "Successfully built transformers\n",
      "Installing collected packages: transformers\n",
      "  Attempting uninstall: transformers\n",
      "    Found existing installation: transformers 4.35.0\n",
      "    Uninstalling transformers-4.35.0:\n",
      "      Successfully uninstalled transformers-4.35.0\n",
      "Successfully installed transformers-4.35.0\n"
     ]
    }
   ],
   "source": [
    "os.chdir(\"/content/drive/MyDrive/Capstone for Data Science/Segmentation/packages/transformers\")\n",
    "!pip install .\n",
    "import transformers"
   ]
  },
  {
   "cell_type": "code",
   "execution_count": 4,
   "metadata": {
    "id": "YCOGWNiDLj9X"
   },
   "outputs": [],
   "source": [
    "from transformers.data.processors.squad import SquadResult, SquadV1Processor, SquadV2Processor\n",
    "from transformers import (\n",
    "    MODEL_FOR_QUESTION_ANSWERING_MAPPING,\n",
    "    WEIGHTS_NAME,\n",
    "    AdamW,\n",
    "    AutoConfig,\n",
    "    AutoModelForQuestionAnswering,\n",
    "    AutoTokenizer,\n",
    "    get_linear_schedule_with_warmup,\n",
    "    squad_convert_examples_to_features,\n",
    "    squad_convert_examples_to_features_with_segmentation,\n",
    ")\n",
    "\n",
    "from transformers.data.metrics.squad_metrics import (\n",
    "    compute_predictions_log_probs,\n",
    "    compute_predictions_logits,\n",
    "    squad_evaluate,\n",
    ")"
   ]
  },
  {
   "cell_type": "code",
   "execution_count": 5,
   "metadata": {
    "id": "pUdcWU8ILlap"
   },
   "outputs": [],
   "source": [
    "logger = logging.getLogger(__name__)\n",
    "device = torch.device(\"cuda\" if torch.cuda.is_available() else \"cpu\")\n",
    "def to_list(tensor):\n",
    "    return tensor.detach().cpu().tolist()"
   ]
  },
  {
   "cell_type": "code",
   "execution_count": 6,
   "metadata": {
    "id": "kDxpk6UjHmbT"
   },
   "outputs": [],
   "source": [
    "df = pd.read_json(\"/content/drive/MyDrive/Capstone for Data Science/maud-extraction/maud_data/maud_squad_split_answers/maud_squad_test.json\")"
   ]
  },
  {
   "cell_type": "code",
   "execution_count": 7,
   "metadata": {
    "colab": {
     "base_uri": "https://localhost:8080/"
    },
    "id": "8CCI0FDOHNHm",
    "outputId": "b8cf0467-b1d8-4e0d-b9e7-2513ca2d0952"
   },
   "outputs": [
    {
     "data": {
      "text/plain": [
       "22"
      ]
     },
     "execution_count": 7,
     "metadata": {},
     "output_type": "execute_result"
    }
   ],
   "source": [
    "len(df[\"data\"][0][\"paragraphs\"][0][\"qas\"])"
   ]
  },
  {
   "cell_type": "markdown",
   "metadata": {
    "id": "Xd03fTykL4dO"
   },
   "source": [
    "# Load Data"
   ]
  },
  {
   "cell_type": "code",
   "execution_count": 8,
   "metadata": {
    "id": "Tx3aPnkaLl17"
   },
   "outputs": [],
   "source": [
    "def load_data(input_json_path, input_csv_path):\n",
    "  df = pd.read_json(input_json_path)\n",
    "\n",
    "  json_files = []\n",
    "  for data in df.data:\n",
    "    json_file = {\n",
    "      'title': data[\"title\"],\n",
    "      'context': data[\"paragraphs\"][0][\"context\"],\n",
    "      'replica': len(data[\"paragraphs\"][0][\"qas\"])\n",
    "    }\n",
    "    json_files.append(json_file)\n",
    "\n",
    "  chars_to_replace = {\n",
    "    '\\xa0': ' ',  # Replace non-breaking space with a regular space\n",
    "    'I.1':'1.1',\n",
    "    'Section1':'Section 1',\n",
    "    '           ':' ',\n",
    "    '\\\\[':'\\[',\n",
    "    '\\\\]':'\\]'\n",
    "  }\n",
    "\n",
    "\n",
    "  context_seg_list = []\n",
    "  for json_file in json_files:\n",
    "    ssn_set,shifted_ssn_set = [],[]\n",
    "    title, context, replica = json_file[\"title\"], json_file[\"context\"], json_file[\"replica\"]\n",
    "    df_seg = pd.read_csv(input_csv_path.format(title))\n",
    "    df_seg['text'] = df_seg['text'].replace(chars_to_replace,regex=True)\n",
    "    # ssn_set = df_seg[(df_seg['tagged_sequence'] == 's_ssn') | (df_seg['tagged_sequence'] == 'b_ssn')]['text'].values\n",
    "    ssn_set = df_seg[df_seg['tagged_sequence'] == 's_ssn']['text'].values\n",
    "    del_set = set([i for i,title in enumerate(ssn_set) if len(title)>20])\n",
    "    ssn_set = [title.strip() for i,title in enumerate(ssn_set) if i not in del_set]\n",
    "    shifted_df_seg = df_seg.shift(-1)\n",
    "    shifted_ssn_set = shifted_df_seg[df_seg['tagged_sequence'] == 's_ssn']['text'].values\n",
    "    shifted_ssn_set = [title for i,title in enumerate(shifted_ssn_set) if i not in del_set]\n",
    "\n",
    "    context_seg_list.append({\"title\":title, \"context\": context, \"ssn_set\": ssn_set, \"shifted_ssn_set\":shifted_ssn_set, \"replica\":replica})\n",
    "\n",
    "    print(title)\n",
    "    print(\"number of sub sections is\",len(ssn_set))\n",
    "    print(\"first 10 section number is {}\".format(ssn_set[0:10]))\n",
    "\n",
    "  return context_seg_list"
   ]
  },
  {
   "cell_type": "markdown",
   "metadata": {
    "id": "keULIequIuSE"
   },
   "source": [
    "# Get Segmentation Index"
   ]
  },
  {
   "cell_type": "code",
   "execution_count": 9,
   "metadata": {
    "id": "ds-uEEZTIzNV"
   },
   "outputs": [],
   "source": [
    "# convert context into mini-contexts\n",
    "def get_segment_start_char_index(context, sp_set, shifted_sp_set):\n",
    "    mini_context = []\n",
    "    pattern1 = f'({sp_set[0]})' + r'\\w*\\s*' + f'({shifted_sp_set[0][0:5]})'\n",
    "    prev_id_list = list(re.finditer(pattern1, context, re.IGNORECASE))\n",
    "    if len(prev_id_list) > 1:\n",
    "      prev_id = prev_id_list[1].start()\n",
    "    else:\n",
    "      prev_id = prev_id_list[0].start()\n",
    "    context_main = context[prev_id:]\n",
    "\n",
    "    for i in range(1,len(sp_set)):\n",
    "        # pattern = sp_set[i] # +'\\s*'+shifted_sp_set[i]\n",
    "        pattern = f'({sp_set[i]})' + r'\\w*\\s*' + f'({shifted_sp_set[i][0:5]})'\n",
    "        match = re.search(pattern,context_main)\n",
    "        if match:\n",
    "            curr_id = match.start() #context_main.find(sp_set[i + 1])\n",
    "            mini_context.append((prev_id, context_main[:curr_id]))\n",
    "            context_main = context_main[curr_id:]\n",
    "            prev_id += curr_id\n",
    "\n",
    "    mini_context.append((prev_id,context_main))\n",
    "    # print(mini_context[-1][0], len(mini_context[-1][1]), len(context))\n",
    "    assert mini_context[-1][0] + len(mini_context[-1][1]) == len(context)\n",
    "\n",
    "    return [item[0] for item in mini_context]"
   ]
  },
  {
   "cell_type": "code",
   "execution_count": 10,
   "metadata": {
    "id": "psL0f2JKI0A1"
   },
   "outputs": [],
   "source": [
    "def _is_whitespace(c):\n",
    "    if c == \" \" or c == \"\\t\" or c == \"\\r\" or c == \"\\n\" or ord(c) == 0x202F:\n",
    "        return True\n",
    "    return False"
   ]
  },
  {
   "cell_type": "code",
   "execution_count": 11,
   "metadata": {
    "id": "wAs310kVI1ei"
   },
   "outputs": [],
   "source": [
    "def get_segment_start_index(context_seg_list):\n",
    "  segment_start_indexes = []\n",
    "  for context_seg in context_seg_list:\n",
    "    title, context, ssn_set, shifted_ssn_set, replica = context_seg[\"title\"], context_seg[\"context\"], context_seg[\"ssn_set\"], context_seg[\"shifted_ssn_set\"], context_seg[\"replica\"]\n",
    "    # mini_context = convert_context_to_list(context, ssn_set, shifted_ssn_set)\n",
    "    # sum = 0\n",
    "    # for i in range(len(mini_context)):\n",
    "    #     sum += len(mini_context[i][1])\n",
    "    # assert sum == len(context)\n",
    "    # print(\"length of context list is\",len(mini_context))\n",
    "\n",
    "    segment_start_index = []\n",
    "\n",
    "    doc_tokens = []\n",
    "    doc_chrs = []\n",
    "    prev_is_whitespace = True\n",
    "    segment_start_char_index = get_segment_start_char_index(context, ssn_set, shifted_ssn_set)\n",
    "\n",
    "    for index in range(len(context)):\n",
    "      c = context[index]\n",
    "      if index in segment_start_char_index:\n",
    "        segment_start_index.append(len(doc_tokens))\n",
    "      if _is_whitespace(c):\n",
    "        prev_is_whitespace = True\n",
    "      else:\n",
    "        doc_chrs.append(c)\n",
    "        if prev_is_whitespace:\n",
    "          doc_tokens.append(c)\n",
    "        else:\n",
    "          doc_tokens[-1] += c\n",
    "        prev_is_whitespace = False\n",
    "\n",
    "    print(f\"segment_start_index for {title} is {segment_start_index}\")\n",
    "    for i in range(replica):\n",
    "      segment_start_indexes.append(segment_start_index)\n",
    "\n",
    "  return segment_start_indexes"
   ]
  },
  {
   "cell_type": "markdown",
   "metadata": {
    "id": "M9FBWWCmxlej"
   },
   "source": [
    "# Inference with Segmentation"
   ]
  },
  {
   "cell_type": "markdown",
   "metadata": {
    "id": "4yz9xdS6xrcC"
   },
   "source": [
    "## Load and Cache"
   ]
  },
  {
   "cell_type": "code",
   "execution_count": 12,
   "metadata": {
    "id": "OshWYHLkxtuN"
   },
   "outputs": [],
   "source": [
    "def cached_data(predict_file, cache_dir, cached_features_file, evaluate, segment_start_indexes, stride_cannot_exceed_doc_stride):\n",
    "  '''\n",
    "  config = AutoConfig.from_pretrained('roberta-base')\n",
    "  tokenizer = AutoTokenizer.from_pretrained('roberta-base',use_fast=False)\n",
    "  model = AutoModelForQuestionAnswering.from_pretrained(\n",
    "        'roberta-base',\n",
    "        from_tf=bool(\".ckpt\" in 'roberta-base'),\n",
    "        config=config\n",
    "        )\n",
    "  '''\n",
    "  model = AutoModelForQuestionAnswering.from_pretrained(trained_model_dir)\n",
    "  tokenizer = AutoTokenizer.from_pretrained(trained_model_dir, use_fast=False)\n",
    "\n",
    "  if evaluate:\n",
    "    examples = SquadV2Processor().get_dev_examples('', filename=predict_file)\n",
    "  else:\n",
    "    examples = SquadV2Processor().get_train_examples('', filename=predict_file)\n",
    "\n",
    "  start = time.time()\n",
    "  if segment_start_indexes == None:\n",
    "    features, dataset = squad_convert_examples_to_features(\n",
    "            examples=examples,\n",
    "            tokenizer=tokenizer,\n",
    "            max_seq_length=512,\n",
    "            doc_stride=256,\n",
    "            max_query_length=64,\n",
    "            is_training=False,\n",
    "            return_dataset=\"pt\",\n",
    "        )\n",
    "  else:\n",
    "    if stride_cannot_exceed_doc_stride == None:\n",
    "      stride_cannot_exceed_doc_stride = True\n",
    "    features, dataset = squad_convert_examples_to_features_with_segmentation(\n",
    "              examples=examples,\n",
    "              tokenizer=tokenizer,\n",
    "              max_seq_length=512,\n",
    "              doc_stride=256,\n",
    "              max_query_length=64,\n",
    "              is_training=False,\n",
    "              return_dataset=\"pt\",\n",
    "              segment_start_indexes = segment_start_indexes,\n",
    "              stride_cannot_exceed_doc_stride = stride_cannot_exceed_doc_stride,\n",
    "          )\n",
    "  print(\"features length = \",len(features))\n",
    "  print(f'\\n{((time.time()-start)/60):.2f} min')\n",
    "\n",
    "  if not os.path.exists(cache_dir):\n",
    "    os.makedirs(cache_dir)\n",
    "\n",
    "  logger.info(\"Saving features into cached file %s\", cached_features_file)\n",
    "  torch.save({\"features\": features, \"dataset\": dataset, \"examples\": examples}, cached_features_file)"
   ]
  },
  {
   "cell_type": "markdown",
   "metadata": {
    "id": "U3PapfKExyLX"
   },
   "source": [
    "## Evaluation"
   ]
  },
  {
   "cell_type": "code",
   "execution_count": 13,
   "metadata": {
    "id": "R5iTPYkixuj6"
   },
   "outputs": [],
   "source": [
    "def evaluate(examples, dataset, features, model, tokenizer, predict_dir, n_best_size, prefix=\"\"):\n",
    "\n",
    "    if not os.path.exists(trained_model_dir):\n",
    "        os.makedirs(trained_model_dir)\n",
    "\n",
    "    if not os.path.exists(predict_dir):\n",
    "        os.makedirs(predict_dir)\n",
    "\n",
    "    # Note that DistributedSampler samples randomly\n",
    "    eval_sampler = SequentialSampler(dataset)\n",
    "    eval_dataloader = DataLoader(dataset, sampler=eval_sampler, batch_size=eval_batch_size)\n",
    "\n",
    "    all_results = []\n",
    "    start_time = time.time()\n",
    "\n",
    "    # for batch in tqdm(eval_dataloader, desc=\"Evaluating\"):\n",
    "    for batch in eval_dataloader:\n",
    "        model.eval()\n",
    "        batch = tuple(t.to(device) for t in batch)\n",
    "        with torch.no_grad():\n",
    "            inputs = {\n",
    "                \"input_ids\": batch[0],\n",
    "                \"attention_mask\": batch[1],\n",
    "                \"token_type_ids\": batch[2],\n",
    "            }\n",
    "\n",
    "            del inputs[\"token_type_ids\"]\n",
    "\n",
    "            feature_indices = batch[3]\n",
    "            outputs = model(**inputs) #### tensor device error\n",
    "\n",
    "        for i, feature_index in enumerate(feature_indices):\n",
    "            eval_feature = features[feature_index.item()]\n",
    "            unique_id = int(eval_feature.unique_id)\n",
    "\n",
    "            output = [to_list(output[i]) for output in outputs.to_tuple()]\n",
    "\n",
    "            # Some models (XLNet, XLM) use 5 arguments for their predictions, while the other \"simpler\"\n",
    "            # models only use two.\n",
    "            start_logits, end_logits = output\n",
    "            result = SquadResult(unique_id, start_logits, end_logits)\n",
    "\n",
    "            all_results.append(result)\n",
    "\n",
    "    evalTime = time.time() - start_time\n",
    "    print(f\"Evaluation done in total {(evalTime/60):.2f} mins ({(evalTime / len(dataset)):.2f} sec per example)\")\n",
    "    #logger.info(\"Evaluation done in total %f secs (%f sec per example)\", evalTime, evalTime / len(dataset))\n",
    "\n",
    "    # Compute predictions\n",
    "    output_prediction_file = os.path.join(predict_dir, \"predictions_{}.json\".format(prefix))\n",
    "    output_nbest_file = os.path.join(predict_dir, \"nbest_predictions_{}.json\".format(prefix))\n",
    "    output_null_log_odds_file = os.path.join(predict_dir, \"null_odds_{}.json\".format(prefix))\n",
    "\n",
    "    predictions = compute_predictions_logits(\n",
    "            examples,\n",
    "            features,\n",
    "            all_results,\n",
    "            n_best_size,\n",
    "            512, #args.max_answer_length,\n",
    "            False, #args.do_lower_case,\n",
    "            output_prediction_file,\n",
    "            output_nbest_file,\n",
    "            output_null_log_odds_file,\n",
    "            False, #args.verbose_logging,\n",
    "            True, #args.version_2_with_negative,\n",
    "            0.01, #args.null_score_diff_threshold,\n",
    "            tokenizer,\n",
    "        )\n",
    "\n",
    "    # Compute the F1 and exact scores.\n",
    "    results = squad_evaluate(examples, predictions)\n",
    "    for key, value in results.items():\n",
    "      print(f'{key}: {value}')\n",
    "    # print(results)\n",
    "    return results,predictions\n"
   ]
  },
  {
   "cell_type": "code",
   "execution_count": 14,
   "metadata": {
    "id": "S6GBnUACx0N2"
   },
   "outputs": [],
   "source": [
    "def evaluate_main(cached_features_file, predict_dir, n_best_size):\n",
    "  features_and_dataset = torch.load(cached_features_file)\n",
    "  features, dataset, examples = (\n",
    "  features_and_dataset[\"features\"],\n",
    "  features_and_dataset[\"dataset\"],\n",
    "  features_and_dataset[\"examples\"],\n",
    "  )\n",
    "  print(f\"Evaluation is based on n_best_size={n_best_size}\")\n",
    "  print(\"length of features is \",len(features))\n",
    "  print(\"length of dataset is \",len(dataset))\n",
    "  model = AutoModelForQuestionAnswering.from_pretrained(trained_model_dir)\n",
    "  tokenizer = AutoTokenizer.from_pretrained(trained_model_dir, use_fast=False)\n",
    "  model.to(device)\n",
    "  results,predicts = evaluate(examples, dataset, features, model, tokenizer, predict_dir +'_n' + str(n_best_size), n_best_size)\n",
    "  # 6952//16 -> 435\n",
    "  return results, predicts"
   ]
  },
  {
   "cell_type": "code",
   "execution_count": 14,
   "metadata": {
    "id": "WgT-kEyhx1kc"
   },
   "outputs": [],
   "source": []
  },
  {
   "cell_type": "markdown",
   "metadata": {
    "id": "Z_b8vIgTLN1v"
   },
   "source": [
    "# Run - test & single deal point"
   ]
  },
  {
   "cell_type": "code",
   "execution_count": 14,
   "metadata": {
    "id": "wGhF19lYItiw"
   },
   "outputs": [],
   "source": []
  },
  {
   "cell_type": "code",
   "execution_count": 15,
   "metadata": {
    "id": "0xBoSYBR9EPl"
   },
   "outputs": [],
   "source": [
    "selected_deal_points = ['0','4','11','12']\n",
    "selected_deal_point = '0'"
   ]
  },
  {
   "cell_type": "code",
   "execution_count": 16,
   "metadata": {
    "id": "WRRDZQQS82ar"
   },
   "outputs": [],
   "source": [
    "# input_json_path = '/content/drive/MyDrive/Capstone for Data Science/maud-extraction/maud_data/maud_squad_split_answers/dp_json/' + 'maud_squad_test_dp{}.json'.format(selected_deal_point)\n",
    "# input_csv_path = '/content/drive/MyDrive/Capstone for Data Science/dataset/MarkupMnA/{}.csv'"
   ]
  },
  {
   "cell_type": "code",
   "execution_count": 17,
   "metadata": {
    "id": "j-q23XVI9IFp"
   },
   "outputs": [],
   "source": [
    "# context_seg_list = load_data(input_json_path, input_csv_path)"
   ]
  },
  {
   "cell_type": "code",
   "execution_count": 18,
   "metadata": {
    "id": "0kSX9nLCGqK5"
   },
   "outputs": [],
   "source": [
    "# seg_start_indexes = get_segment_start_index(context_seg_list)"
   ]
  },
  {
   "cell_type": "code",
   "execution_count": 16,
   "metadata": {
    "id": "XgAzg0m2zQtA"
   },
   "outputs": [],
   "source": [
    "run_num = 1\n",
    "epoch_num = 4\n",
    "train_batch_size = 32\n",
    "eval_batch_size = 64\n",
    "learning_rate = 1e-4\n",
    "max_steps = 1\n",
    "model_type = 'roberta'\n",
    "model_name_or_path = 'roberta-base'\n",
    "input_path = '/content/drive/MyDrive/Capstone for Data Science/maud-extraction'\n",
    "output_path = '/content/drive/MyDrive/Capstone for Data Science/Segmentation'\n",
    "trained_model_dir = input_path + f'/train_models/test_split/roberta-base-maud-lr-1e-4'\n",
    "data_type = \"test\""
   ]
  },
  {
   "cell_type": "code",
   "execution_count": 17,
   "metadata": {
    "id": "pjx_iP5UzSnW"
   },
   "outputs": [],
   "source": [
    "def get_paths(deal_point_id, data_type):\n",
    "  cache_dir = output_path + f'/_cached_features/{data_type}_deal_point_{deal_point_id}'\n",
    "  return {\n",
    "      \"predict_file\": input_path + '/maud_data/maud_squad_split_answers/dp_json/maud_squad_test_dp{}.json'.format(deal_point_id),\n",
    "      \"input_csv_path\": '/content/drive/MyDrive/Capstone for Data Science/dataset/MarkupMnA/{}.csv',\n",
    "\n",
    "      \"cache_dir\": output_path + f'/_cached_features/{data_type}_deal_point_{deal_point_id}',\n",
    "      \"cached_features_file\": cache_dir + f'/cached_{data_type}_deal_point_{deal_point_id}.json',\n",
    "      \"cached_features_file_seg\": cache_dir + f'/cached_{data_type}_deal_point_{deal_point_id}_seg.json',\n",
    "      \"cached_features_file_seg_moreOverlap\": cache_dir + f'/cached_{data_type}__deal_point_{deal_point_id}_seg_moreOverlap.json',\n",
    "\n",
    "      \"predict_dir\": output_path + f'/{data_type}_models/predict/{data_type}_deal_point_{deal_point_id}',\n",
    "      \"predict_dir_seg\": output_path + f'/{data_type}_models/predict/{data_type}_deal_point_{deal_point_id}_seg',\n",
    "      \"predict_dir_seg_moreOverlap\": output_path + f'/{data_type}_models/predict/{data_type}_deal_point_{deal_point_id}_seg_moreOverlap',\n",
    "  }"
   ]
  },
  {
   "cell_type": "code",
   "execution_count": 18,
   "metadata": {
    "id": "KzV2Ksl20GyR"
   },
   "outputs": [],
   "source": [
    "def run_create_features(deal_point_id):\n",
    "  print(\"\\n*******************\\n\")\n",
    "  print(f\"Create features on deal point {deal_point_id}\\n\")\n",
    "  paths = get_paths(deal_point_id, data_type)\n",
    "  context_seg_list = load_data(paths[\"predict_file\"], paths[\"input_csv_path\"])\n",
    "  segment_start_indexes = get_segment_start_index(context_seg_list)\n",
    "  print(\"Create features with original sliding windows......\")\n",
    "  cached_data(predict_file=paths[\"predict_file\"], cache_dir=paths[\"cache_dir\"], cached_features_file=paths[\"cached_features_file\"], evaluate=True, segment_start_indexes=None, stride_cannot_exceed_doc_stride=None)\n",
    "  print(\"Create features with new sliding windows......\")\n",
    "  cached_data(predict_file=paths[\"predict_file\"], cache_dir=paths[\"cache_dir\"], cached_features_file=paths[\"cached_features_file_seg_moreOverlap\"], evaluate=True, segment_start_indexes=segment_start_indexes, stride_cannot_exceed_doc_stride=True)"
   ]
  },
  {
   "cell_type": "code",
   "execution_count": 22,
   "metadata": {
    "colab": {
     "base_uri": "https://localhost:8080/"
    },
    "id": "Vp-1wnZn1bT_",
    "outputId": "fad2ee53-05ce-4185-d92c-79ae00f050dd"
   },
   "outputs": [
    {
     "metadata": {
      "tags": null
     },
     "name": "stdout",
     "output_type": "stream",
     "text": [
      "\n",
      "*******************\n",
      "\n",
      "Create features on deal point 0\n",
      "\n",
      "contract_23\n",
      "number of sub sections is 110\n",
      "first 10 section number is ['Section 1.01', 'Section 1.02', 'Section 2.01', 'Section 2.02', 'Section 2.03', 'Section 2.04', 'Section 2.05', 'Section 2.06', 'Section 2.07', 'Section 2.08']\n",
      "contract_95\n",
      "number of sub sections is 83\n",
      "first 10 section number is ['1.1', '1.2', '2.1', '2.2', '2.3', '2.4', '2.5', '2.6', '3.1', '3.2']\n",
      "contract_49\n",
      "number of sub sections is 87\n",
      "first 10 section number is ['1.1', '1.2', '1.3', '1.4', '1.5', '2.1', '2.2', '2.3', '2.4', '2.5']\n",
      "contract_36\n",
      "number of sub sections is 97\n",
      "first 10 section number is ['Section 1.1', 'Section 2.1', 'Section 2.2', 'Section 2.3', 'Section 2.4', 'Section 2.5', 'Section 2.6', 'Section 3.1', 'Section 3.2', 'Section 3.3']\n",
      "contract_84\n",
      "number of sub sections is 292\n",
      "first 10 section number is ['Section 1.1', 'Section 1.2', 'Section 2.1', 'Section 2.2', 'Section 2.3', 'Section 2.4', 'Section 2.5', 'Section 2.6', 'Section 2.7', 'Section 3.1']\n",
      "contract_88\n",
      "number of sub sections is 75\n",
      "first 10 section number is ['Section 1.1', 'Section 1.2', 'Section 2.1', 'Section 2.2', 'Section 2.3', 'Section 2.4', 'Section 2.5', 'Section 2.6', 'Section 3.1', 'Section 3.2']\n",
      "contract_121\n",
      "number of sub sections is 116\n",
      "first 10 section number is ['Section 1.1', 'Section 1.2', 'Section 2.1', 'Section 2.2', 'Section 2.3', 'Section 2.4', 'Section 2.5', 'Section 2.6', 'Section 2.7', 'Section 2.8']\n",
      "contract_109\n",
      "number of sub sections is 119\n",
      "first 10 section number is ['1.1', '1.2', '1.3', '1.4', '1.5', '1.6', '1.7', '1.8', '1.9', '1.1']\n",
      "contract_114\n",
      "number of sub sections is 96\n",
      "first 10 section number is ['Section 1.1', 'Section 1.2', 'Section 1.3', 'Section 1.4', 'Section 1.5', 'Section 1.6', 'Section 1.7', 'Section 2.1', 'Section 2.2', 'Section 2.3']\n",
      "contract_111\n",
      "number of sub sections is 106\n",
      "first 10 section number is ['1.1', '2.1', '2.2', '2.4', '2.5', '2.6', '2.7', '2.8', '2.9', '2.1']\n",
      "contract_83\n",
      "number of sub sections is 94\n",
      "first 10 section number is ['Section 1.01.', 'Section 1.02.', 'Section 2.01.', 'Section 2.02.', 'Section 2.03.', 'Section 2.04.', 'Section 2.05.', 'Section 2.06.', 'Section 2.07.', 'Section 2.08.']\n",
      "contract_78\n",
      "number of sub sections is 82\n",
      "first 10 section number is ['Section 1.1.', 'Section 1.2.', 'Section 1.3.', 'Section 2.1.', 'Section 2.2.', 'Section 3.1.', 'Section 3.2.', 'Section 3.3.', 'Section 3.4.', 'Section 3.5.']\n",
      "contract_6\n",
      "number of sub sections is 61\n",
      "first 10 section number is ['A.', 'B.', 'C.', 'D.', 'E.', 'F.', 'G.', '1.1', '1.2', '1.3']\n",
      "contract_115\n",
      "number of sub sections is 126\n",
      "first 10 section number is ['Section 1.01', 'Section 1.02', 'Section 2.01', 'Section 2.02', 'Section 2.03', 'Section 2.04', 'Section 2.05', 'Section 2.06', 'Section 2.07', 'Section 2.08']\n",
      "contract_24\n",
      "number of sub sections is 112\n",
      "first 10 section number is ['1.1', '1.2', '2.1', '2.2', '2.3', '2.4', '2.5', '2.6', '2.7', '3.1']\n",
      "contract_106\n",
      "number of sub sections is 48\n",
      "first 10 section number is ['2.01', '2.02', '3.02', '3.03', '3.04', '4.01', '4.02', '4.03', '5.01', '5.02']\n",
      "segment_start_index for contract_23 is [1631, 8771, 9460, 9607, 9806, 10236, 11573, 11596, 12769, 12910, 13028, 13135, 13292, 13427, 13496, 13568, 13850, 14039, 14358, 14539, 14793, 15267, 15665, 16617, 16920, 17086, 17291, 17547, 17667, 17741, 18800, 20148, 21148, 22171, 22635, 24300, 24598, 24734, 25095, 25330, 25401, 25491, 25610, 25682, 26323, 26597, 27231, 27500, 28027, 28422, 29471, 29773, 29932, 30126, 30381, 30496, 30566, 31569, 32850, 33821, 34654, 35102, 36561, 36867, 36999, 37345, 37572, 37642, 37723, 37792, 38310, 40275, 41768, 43479, 45172, 45668, 47171, 48996, 50183, 50442, 51501, 52355, 52436, 52497, 52567, 52696, 53093, 53225, 54497, 54600, 54694, 54973, 55416, 55884, 55951, 57453, 57647, 59084, 59481, 59535, 59719, 59808, 60053, 60238, 60306, 60685, 60840, 60970, 61033, 61167]\n",
      "segment_start_index for contract_95 is [960, 983, 1087, 1217, 1433, 2517, 5458, 5757, 6215, 6649, 7538, 8300, 9171, 11199, 11442, 12842, 13903, 14152, 16166, 16667, 17510, 18510, 18667, 18925, 20969, 23398, 23519, 26199, 27269, 28010, 29683, 31099, 32018, 32249, 32350, 34640, 36844, 38208, 38436, 38793, 38826, 38879, 39963, 40194, 40678]\n",
      "segment_start_index for contract_49 is [1120, 1157, 1280, 1524, 1741, 1825, 2203, 3549, 4637, 4915, 5070, 5278, 5466, 6696, 7134, 8062, 9098, 9192, 9330, 10104, 10461, 11561, 11768, 11868, 12162, 13274, 13726, 13883, 14377, 14470, 14565, 14647, 14755, 14945, 15679, 15787, 15829, 16771, 16922, 17291, 17496, 17591, 17712, 17770, 17912, 18443, 18753, 20826, 20925, 22605, 22692, 23087, 24106, 24221, 25277, 25499, 25949, 26047, 26124, 26204, 26359, 27157, 31006, 32512, 32591, 32722, 32944, 33364, 34691, 34835, 35627, 35849, 36108, 43648, 43679, 43992, 44085, 44540, 44798, 45030, 45190, 45568, 45631, 46950, 47391, 47602, 47728]\n",
      "segment_start_index for contract_36 is [1709, 1738, 1813, 2093, 2300, 2417, 2508, 2562, 3128, 4656, 5710, 5832, 6120, 6396, 6582, 7578, 7936, 8440, 8631, 9090, 9248, 9423, 9604, 9857, 10011, 10874, 11118, 11690, 12289, 13238, 13461, 13778, 13841, 13950, 14021, 14116, 14179, 14479, 14681, 14719, 15341, 15533, 15893, 16335, 16468, 16609, 16748, 18073, 18257, 18377, 18475, 18534, 18900, 18974, 19061, 19952, 21742, 22836, 24266, 24813, 27692, 28965, 29104, 29314, 30426, 30533, 32508, 34182, 34706, 34799, 34873, 34950, 35015, 35119, 35173, 35280, 35566, 36096, 36337, 37381, 37739, 39092, 39249, 39432, 39625, 39720, 39956, 40759, 40953, 41171, 41231, 41341, 41832, 42690, 43093, 43142, 43290]\n",
      "segment_start_index for contract_84 is [2198, 9773, 10323, 11798, 11958, 12181, 12393, 12441, 12722, 13374, 13716, 13937, 14192, 14284, 15049, 15312, 16838, 16952, 17073, 17337, 17742, 18320, 18423, 19691, 20290, 20851, 22218, 23475, 23581, 23734, 23893, 25799, 26705, 27563, 27952, 28523, 29729, 30823, 31062, 31153, 31257, 31293, 31398, 31471, 32041, 32721, 32846, 33942, 34359, 34896, 36260, 37472, 37585, 37736, 37887, 39745, 40237, 41044, 41449, 42008, 43118, 43539, 43760, 43858, 43928, 43954, 44051, 45010, 45072, 45298, 45472, 45700, 46170, 46332, 46934, 50577, 52595, 52676, 52903, 54678, 54751, 56140, 58666, 60605, 60752, 62422, 63668, 64117, 64199, 64245, 64535, 64671, 66280, 66343, 67302, 68236, 68374, 68406, 68531, 68622, 68625, 72268, 73172, 73609, 74084, 74268, 74386, 74689, 76155, 77270, 78062, 78358, 80966, 81042, 81349, 81576, 81683, 82003, 82283, 82385, 82627, 82745, 83149, 83325, 83904]\n",
      "segment_start_index for contract_88 is [972, 1076, 1473, 1785, 1949, 2274, 3912, 4049, 5676, 6162, 7053, 7487, 7950, 9724, 9823, 9929, 11687, 12493, 12765, 13029, 13415, 13822, 15260]\n",
      "segment_start_index for contract_121 is [1533, 7994, 8690, 8778, 8917, 9036, 9112, 9153, 9333, 9388, 9539, 11170, 13075, 13188, 13299, 13348, 13477, 13941, 14476, 14543, 15604, 15987, 16588, 17038, 18073, 18163, 18263, 18411, 18537, 20478, 22264, 22615, 23069, 23508, 26036, 27009, 27258, 27338, 27405, 27491, 27516, 27657, 27808, 28441, 29007, 29074, 29863, 30295, 30877, 31326, 32361, 32451, 32551, 32714, 32840, 34587, 36075, 36426, 36873, 37312, 39831, 40805, 41042, 41105, 41176, 41277, 41302, 41420, 41565, 41619, 41874, 41966, 45450, 48952, 49053, 50673, 51402, 54343, 57280, 57495, 59292, 60077, 60578, 60754, 60859, 60981, 61441, 61544, 61702, 62275, 63904, 64659, 64713, 65782, 66009, 66097, 66180, 66421, 67136, 69281, 69557, 73644, 73820, 73948, 74033, 74301, 74528, 74638, 74687, 74893, 75034, 75129, 75490, 75583, 75691, 75813]\n",
      "segment_start_index for contract_109 is [1781, 1867, 2069, 2166, 2195, 2873, 3000, 3139, 4138, 4205, 4268, 4348, 4404, 5016, 5216, 5389, 7396, 8589, 9697, 10437, 11083, 11461, 12475, 12588, 12700, 12925, 13709, 15933, 16198, 17491, 18542, 18769, 18978, 19370, 19531, 19852, 20450, 20562, 20714, 20842, 20889, 21012, 21287, 22055, 22357, 22768, 23139, 23893, 24442, 25453, 26408, 26876, 27205, 28177, 28239, 28357, 28567, 29073, 29773, 30039, 31156, 31514, 31738, 31845, 31887, 32041, 32198, 32298, 32344, 32446, 32641, 32863, 33224, 33533, 35670, 35983, 37120, 37662, 38837, 39043, 39184, 41449, 42075, 42857, 42972, 43201, 43335, 43510, 43743, 43868, 44865, 45041, 45195, 45359, 45526, 45723, 45784, 46084, 46286, 46574, 47248, 47923, 48521, 49709, 49827, 50049, 50125, 50204, 50402, 50918, 51395, 51450, 51496, 51753, 51928, 52238, 52367, 52481, 52590]\n",
      "segment_start_index for contract_114 is [1174, 1254, 1389, 1413, 2248, 4121, 4358, 4405, 4696, 5895, 6973, 7237, 7581, 7988, 8723, 9113, 9607, 9931, 10388, 10644, 10773, 11654, 11813, 12785, 13178, 13982, 14337, 15384, 15645, 15848, 17204, 17277, 17383, 17508, 17669, 17727, 17853, 18147, 18310, 18345, 18783, 19001, 19353, 19769, 20869, 21053, 21193, 21315, 21417, 21484, 21588, 21617, 21760, 21988, 22376, 25469, 25688, 25754, 26168, 27225, 27513, 27974, 29055, 31517, 34447, 35654, 36042, 36909, 37945, 38049, 38392, 38553, 38748, 38847, 38938, 39014, 39265, 40497, 40702, 43222, 43278, 43431, 43534, 44044, 44790, 44863, 45207, 45405, 45491, 45531, 45593, 45743, 45934, 45989, 46612, 47109]\n",
      "segment_start_index for contract_111 is [2106, 10792, 12766, 14337, 14521, 14814, 15019, 15202, 15533, 15717, 17204, 19743, 21810, 22131, 22287, 22412, 22476, 22858, 23087, 23335, 23856, 23902, 24146, 24357, 25837, 26480, 26679, 27392, 27512, 27617, 27904, 28284, 28550, 30429, 31025, 32526, 33171, 33270, 33429, 33538, 33661, 33751, 33810, 34722, 34908, 35091, 35373, 35721, 35845, 35934, 35994, 36135, 36263, 36348, 37188, 37446, 37720, 37984, 38425, 38673, 40741, 43653, 44193, 45149, 46294, 46296, 46802, 49711, 49824, 50270, 50336, 51996, 53419, 53538, 54106, 54383, 54611, 54717, 54861, 54956, 55061, 55266, 55437, 55542, 55684, 55741, 55922, 57063, 57415, 59478, 59656, 59851, 59994, 60044, 60450, 60697, 60894, 61058, 61690, 61798, 62563, 62653, 63325, 63504, 63635, 63826]\n",
      "segment_start_index for contract_83 is [875, 7302, 7877, 8346, 8625, 9272, 9467, 10286, 10382, 10497, 10617, 10658, 10746, 10803, 10854, 10966, 11145, 11422, 11603, 11844, 12487, 12894, 13326, 13445, 13622, 13746, 13867, 14242, 14355, 14979, 15637, 16809, 17855, 18482, 18792, 19611, 19730, 19832, 19924, 20029, 20137, 20302, 20498, 20666, 20879, 21019, 21115, 21202, 22155, 22227, 22291, 22346, 22601, 22875, 24374, 24724, 25059, 27390, 27468, 29938, 29961, 31029, 32167, 32202, 33669, 33778, 35310, 35850, 36123, 36149, 36233, 36415, 36582, 36681, 36728, 36894, 37050, 37499, 37702, 37774, 38714, 38889, 39126, 39219, 39526, 40954, 41126, 41400, 41555, 41947, 42021, 42126, 42176, 42310]\n",
      "segment_start_index for contract_78 is [1092, 1149, 1271, 1457, 1516, 1648, 2073, 3307, 3685, 4777, 5147, 5477, 6383, 6863, 7173, 7731, 8254, 8455, 8627, 9570, 9833, 11383, 12358, 12605, 12839, 13642, 13796, 15456, 16137, 17191, 17381, 17555, 17665, 17814, 17871, 18077, 18199, 18358, 18709, 18770, 18943, 19042, 19104, 19181, 19233, 19293, 19702, 22581, 25150, 26589, 27241, 28652, 29055, 30086, 30185, 30234, 31250, 31331, 31374, 31415, 31471, 31578, 31987, 32056, 32184, 32367, 32883, 33247, 34314, 35162, 35439, 35509, 35541, 35596, 35863, 36236, 36322, 36515, 36638, 37080, 37218, 37364]\n",
      "segment_start_index for contract_6 is [538, 727, 825, 908, 974, 1101, 1158, 5197, 5347, 5449, 5547, 6071, 6303, 7409, 7575, 7719, 8069, 8116, 17626, 20086, 23612, 23754, 24692, 25043, 25105, 25158, 25464, 25774, 25921, 25964, 25995, 26095, 26531, 26748, 26976, 27182, 27220, 27353, 27432, 27511, 28402, 29110, 29155, 29526, 30190, 30315, 30487, 30725, 30955, 31959, 32063, 32396, 32553, 32724, 33047, 33201, 33309, 33533, 33655, 33702, 33807]\n",
      "segment_start_index for contract_115 is [1126, 6224, 6898, 7037, 7457, 7503, 7827, 7978, 8060, 8348, 8486, 8841, 9446, 9568, 9668, 9720, 9869, 10213, 10514, 11012, 11346, 11552, 12117, 12372, 12618, 13510, 13608, 14510, 14654, 15335, 15665, 16626, 17574, 18168, 18597, 18719, 18988, 19182, 19273, 19396, 19461, 19524, 19782, 20217, 20421, 20618, 21123, 21228, 21250, 21363, 21419, 21508, 21604, 21661, 21879, 23463, 23992, 25217, 25686, 26126, 27882, 28088, 29737, 30714, 30815, 30859, 30976, 31140, 31239, 31374, 31510, 31876, 32198, 33124, 33868, 34003, 34127, 34357, 34664, 35005, 35260, 35335, 35444, 35786, 36005, 36381, 36435, 36929, 36999, 37093, 37215, 37264, 37457, 37675, 37735, 37798, 37897, 37933, 37986, 38081, 38189, 38295, 38368, 38429, 38588, 38707, 38936, 39056, 39158, 39202, 39370, 39458, 39588, 39757, 39881, 39937, 40000, 40295, 40591, 41046, 41183, 41252, 41356, 41570, 41640, 41798]\n",
      "segment_start_index for contract_24 is [1225, 1254, 1704, 1787, 2026, 2118, 2456, 2615, 2691, 3101, 3827, 5033, 7686, 7873, 8170, 9109, 9717, 9965, 10880, 11025, 11282, 11544, 11844, 12682, 13282, 13860, 13940, 14472, 14934, 15236, 16547, 17092, 17622, 17853, 18182, 18327, 18377, 18640, 18773, 18841, 19403, 19700, 20553, 21295, 21496, 22400, 22542, 22799, 23024, 23324, 24163, 24763, 25342, 25422, 25956, 26418, 26693, 27985, 28506, 29039, 29270, 29600, 29652, 29700, 29962, 30095, 30130, 30208, 30592, 32704, 34762, 38062, 41367, 42140, 43774, 44695, 45322, 46616, 47751, 47925, 48209, 48359, 48573, 48664, 48900, 49074, 49360, 49427, 49454, 49655, 49901, 50466, 51178, 51247, 51876, 52028, 53527, 53560, 53700, 53990, 55124, 55195, 55365, 55736, 55956, 56039, 56236, 56583, 56673, 56676, 56890, 56896]\n",
      "segment_start_index for contract_106 is [4906, 5121, 5687, 5780, 7327, 8025, 8591, 19648, 23310, 25889, 26264, 26365, 26940, 27066, 28233, 28667, 29224, 29451, 30006, 30786, 31803, 31976, 32387, 32675, 32796, 33143, 33257, 33369, 33493, 33674, 33892, 34050, 34526, 35428, 36209, 36707, 36781, 36888, 36925, 37288, 37475, 37510, 37733, 37856, 37909, 38047, 38146, 38238]\n",
      "Create features with original sliding windows......\n"
     ]
    },
    {
     "metadata": {
      "tags": null
     },
     "name": "stderr",
     "output_type": "stream",
     "text": [
      "100%|██████████| 16/16 [00:02<00:00,  6.34it/s]\n",
      "convert squad examples to features:   0%|          | 0/16 [00:00<?, ?it/s]"
     ]
    },
    {
     "metadata": {
      "tags": null
     },
     "name": "stdout",
     "output_type": "stream",
     "text": [
      "Number of sliding windows for question contract_23_Absence of Litigation Closing Condition is 316\n",
      "Number of sliding windows for question contract_95_Absence of Litigation Closing Condition is 246\n",
      "Number of sliding windows for question contract_49_Absence of Litigation Closing Condition is 263\n",
      "Number of sliding windows for question contract_36_Absence of Litigation Closing Condition is 257\n",
      "Number of sliding windows for question contract_84_Absence of Litigation Closing Condition is 454\n",
      "Number of sliding windows for question contract_88_Absence of Litigation Closing Condition is 83\n",
      "Number of sliding windows for question contract_121_Absence of Litigation Closing Condition is 386\n",
      "Number of sliding windows for question contract_109_Absence of Litigation Closing Condition is 316\n",
      "Number of sliding windows for question contract_114_Absence of Litigation Closing Condition is 272\n",
      "Number of sliding windows for question contract_111_Absence of Litigation Closing Condition is 338\n",
      "Number of sliding windows for question contract_83_Absence of Litigation Closing Condition is 220\n",
      "Number of sliding windows for question contract_78_Absence of Litigation Closing Condition is 218\n",
      "Number of sliding windows for question contract_6_Absence of Litigation Closing Condition is 180\n",
      "Number of sliding windows for question contract_115_Absence of Litigation Closing Condition is 211\n",
      "Number of sliding windows for question contract_24_Absence of Litigation Closing Condition is 346\n",
      "Number of sliding windows for question contract_106_Absence of Litigation Closing Condition is 195\n"
     ]
    },
    {
     "metadata": {
      "tags": null
     },
     "name": "stderr",
     "output_type": "stream",
     "text": [
      "convert squad examples to features: 100%|██████████| 16/16 [09:24<00:00, 35.26s/it]  \n",
      "add example index and unique id: 100%|██████████| 16/16 [00:00<00:00, 4995.08it/s]\n"
     ]
    },
    {
     "metadata": {
      "tags": null
     },
     "name": "stdout",
     "output_type": "stream",
     "text": [
      "features length =  4301\n",
      "\n",
      "9.43 min\n",
      "Create features with new sliding windows......\n"
     ]
    },
    {
     "metadata": {
      "tags": null
     },
     "name": "stderr",
     "output_type": "stream",
     "text": [
      "100%|██████████| 16/16 [00:02<00:00,  6.44it/s]\n",
      "convert squad examples to features:   0%|          | 0/16 [00:00<?, ?it/s]"
     ]
    },
    {
     "metadata": {
      "tags": null
     },
     "name": "stdout",
     "output_type": "stream",
     "text": [
      "Number of sliding windows for question contract_23_Absence of Litigation Closing Condition is 355\n",
      "Number of sliding windows for question contract_95_Absence of Litigation Closing Condition is 269\n",
      "Number of sliding windows for question contract_49_Absence of Litigation Closing Condition is 293\n",
      "Number of sliding windows for question contract_36_Absence of Litigation Closing Condition is 286\n",
      "Number of sliding windows for question contract_84_Absence of Litigation Closing Condition is 503\n",
      "Number of sliding windows for question contract_88_Absence of Litigation Closing Condition is 93\n",
      "Number of sliding windows for question contract_121_Absence of Litigation Closing Condition is 423\n",
      "Number of sliding windows for question contract_109_Absence of Litigation Closing Condition is 358\n",
      "Number of sliding windows for question contract_114_Absence of Litigation Closing Condition is 311\n",
      "Number of sliding windows for question contract_111_Absence of Litigation Closing Condition is 374\n",
      "Number of sliding windows for question contract_83_Absence of Litigation Closing Condition is 248\n",
      "Number of sliding windows for question contract_78_Absence of Litigation Closing Condition is 242\n",
      "Number of sliding windows for question contract_6_Absence of Litigation Closing Condition is 196\n",
      "Number of sliding windows for question contract_115_Absence of Litigation Closing Condition is 245\n",
      "Number of sliding windows for question contract_24_Absence of Litigation Closing Condition is 389\n",
      "Number of sliding windows for question contract_106_Absence of Litigation Closing Condition is 210\n"
     ]
    },
    {
     "name": "stderr",
     "output_type": "stream",
     "text": [
      "convert squad examples to features: 100%|██████████| 16/16 [09:29<00:00, 35.60s/it]  \n",
      "add example index and unique id: 100%|██████████| 16/16 [00:00<00:00, 4280.45it/s]\n"
     ]
    },
    {
     "name": "stdout",
     "output_type": "stream",
     "text": [
      "features length =  4795\n",
      "\n",
      "9.52 min\n"
     ]
    }
   ],
   "source": [
    "run_create_features(selected_deal_point)"
   ]
  },
  {
   "cell_type": "code",
   "execution_count": 19,
   "metadata": {
    "id": "OI8dswKw9JLv"
   },
   "outputs": [],
   "source": [
    "def run_evaluate(deal_point_id):\n",
    "  print(\"\\n*******************\\n\")\n",
    "  print(f\"Evaluate on contract {deal_point_id}\")\n",
    "  paths = get_paths(deal_point_id, data_type)\n",
    "  for n_best_size in [10,100]:\n",
    "    print(f\"\\nn_best_size={n_best_size}\")\n",
    "    print(\"\\nWith original sliding windows......\")\n",
    "    res, pred = evaluate_main(paths[\"cached_features_file\"], paths[\"predict_dir\"], n_best_size=n_best_size)\n",
    "    print(\"\\nWith New sliding windows......\")\n",
    "    res_seg_moreOverlap, pred_seg_moreOverlap = evaluate_main(paths[\"cached_features_file_seg_moreOverlap\"], paths[\"predict_dir_seg_moreOverlap\"], n_best_size=n_best_size)\n",
    "\n",
    "    %cd /content/drive/MyDrive/Capstone for Data Science/Segmentation\n",
    "    predict_file = f'Maud_json_data/maud_squad_{data_type}_dp{deal_point_id}.json'\n",
    "    predict_dir = paths[\"predict_dir\"][len(output_path)+1:]+f'_n{n_best_size}'\n",
    "    predict_dir_seg = paths[\"predict_dir_seg\"][len(output_path)+1:]+f'_n{n_best_size}'\n",
    "    predict_dir_seg_moreOverlap = paths[\"predict_dir_seg_moreOverlap\"][len(output_path)+1:]+f'_n{n_best_size}'\n",
    "\n",
    "    print(\"\\nWith original sliding windows......\")\n",
    "    !python evaluate.py -E test -T $predict_file $predict_dir\n",
    "    print(\"\\nWith New sliding windows......\")\n",
    "    !python evaluate.py -E test -T $predict_file $predict_dir_seg_moreOverlap"
   ]
  },
  {
   "cell_type": "code",
   "execution_count": 27,
   "metadata": {
    "colab": {
     "base_uri": "https://localhost:8080/"
    },
    "id": "0zmRb8J09MO7",
    "outputId": "3c23b4e8-87fa-4245-d1c2-e0821182ad05"
   },
   "outputs": [
    {
     "name": "stdout",
     "output_type": "stream",
     "text": [
      "\n",
      "*******************\n",
      "\n",
      "Evaluate on contract 0\n",
      "\n",
      "n_best_size=10\n",
      "\n",
      "With original sliding windows......\n",
      "Evaluation is based on n_best_size=10\n",
      "length of features is  4301\n",
      "length of dataset is  4301\n",
      "Evaluation done in total 2.27 mins (0.03 sec per example)\n",
      "exact: 0.0\n",
      "f1: 5.357142857142857\n",
      "total: 16\n",
      "HasAns_exact: 0.0\n",
      "HasAns_f1: 85.71428571428571\n",
      "HasAns_total: 1\n",
      "NoAns_exact: 0.0\n",
      "NoAns_f1: 0.0\n",
      "NoAns_total: 15\n",
      "best_exact: 93.75\n",
      "best_exact_thresh: 0.0\n",
      "best_f1: 93.75\n",
      "best_f1_thresh: 0.0\n",
      "\n",
      "With New sliding windows......\n",
      "Evaluation is based on n_best_size=10\n",
      "length of features is  4795\n",
      "length of dataset is  4795\n",
      "Evaluation done in total 2.62 mins (0.03 sec per example)\n",
      "exact: 0.0\n",
      "f1: 2.3648648648648645\n",
      "total: 16\n",
      "HasAns_exact: 0.0\n",
      "HasAns_f1: 37.83783783783783\n",
      "HasAns_total: 1\n",
      "NoAns_exact: 0.0\n",
      "NoAns_f1: 0.0\n",
      "NoAns_total: 15\n",
      "best_exact: 93.75\n",
      "best_exact_thresh: 0.0\n",
      "best_f1: 93.75\n",
      "best_f1_thresh: 0.0\n",
      "/content/drive/.shortcut-targets-by-id/1QI32qih1bmZh5-UISjuEypWke0vN6OZM/Capstone for Data Science/Segmentation\n",
      "\n",
      "With original sliding windows......\n",
      "Evaluating on test split.\n",
      "recall=0.05  prec=(0.09090909090909091, 0.5199999999999996)\n",
      "recall=0.1  prec=(0.09090909090909091, 0.5199999999999996)\n",
      "recall=0.15  prec=(0.09090909090909091, 0.5199999999999996)\n",
      "recall=0.2  prec=(0.09090909090909091, 0.5199999999999996)\n",
      "recall=0.25  prec=(0.09090909090909091, 0.5199999999999996)\n",
      "recall=0.3  prec=(0.09090909090909091, 0.5199999999999996)\n",
      "recall=0.4  prec=(0.09090909090909091, 0.5199999999999996)\n",
      "recall=0.5  prec=(0.09090909090909091, 0.5199999999999996)\n",
      "AUPR: 0.045, Precision at 80% Recall: 0.000, Precision at 90% Recall: 0.000\n",
      "\n",
      "With New sliding windows......\n",
      "Evaluating on test split.\n",
      "recall=0.05  prec=(0.02127659574468085, 0.059999999999999165)\n",
      "recall=0.1  prec=(0.02127659574468085, 0.059999999999999165)\n",
      "recall=0.15  prec=(0.02127659574468085, 0.059999999999999165)\n",
      "recall=0.2  prec=(0.02127659574468085, 0.059999999999999165)\n",
      "recall=0.25  prec=(0.02127659574468085, 0.059999999999999165)\n",
      "recall=0.3  prec=(0.02127659574468085, 0.059999999999999165)\n",
      "recall=0.4  prec=(0.02127659574468085, 0.059999999999999165)\n",
      "recall=0.5  prec=(0.02127659574468085, 0.059999999999999165)\n",
      "AUPR: 0.011, Precision at 80% Recall: 0.000, Precision at 90% Recall: 0.000\n",
      "\n",
      "n_best_size=100\n",
      "\n",
      "With original sliding windows......\n",
      "Evaluation is based on n_best_size=100\n",
      "length of features is  4301\n",
      "length of dataset is  4301\n",
      "Evaluation done in total 2.36 mins (0.03 sec per example)\n",
      "exact: 0.0\n",
      "f1: 5.357142857142857\n",
      "total: 16\n",
      "HasAns_exact: 0.0\n",
      "HasAns_f1: 85.71428571428571\n",
      "HasAns_total: 1\n",
      "NoAns_exact: 0.0\n",
      "NoAns_f1: 0.0\n",
      "NoAns_total: 15\n",
      "best_exact: 93.75\n",
      "best_exact_thresh: 0.0\n",
      "best_f1: 93.75\n",
      "best_f1_thresh: 0.0\n",
      "\n",
      "With New sliding windows......\n",
      "Evaluation is based on n_best_size=100\n",
      "length of features is  4795\n",
      "length of dataset is  4795\n",
      "Evaluation done in total 2.63 mins (0.03 sec per example)\n",
      "exact: 0.0\n",
      "f1: 2.3648648648648645\n",
      "total: 16\n",
      "HasAns_exact: 0.0\n",
      "HasAns_f1: 37.83783783783783\n",
      "HasAns_total: 1\n",
      "NoAns_exact: 0.0\n",
      "NoAns_f1: 0.0\n",
      "NoAns_total: 15\n",
      "best_exact: 93.75\n",
      "best_exact_thresh: 0.0\n",
      "best_f1: 93.75\n",
      "best_f1_thresh: 0.0\n",
      "/content/drive/.shortcut-targets-by-id/1QI32qih1bmZh5-UISjuEypWke0vN6OZM/Capstone for Data Science/Segmentation\n",
      "\n",
      "With original sliding windows......\n",
      "Evaluating on test split.\n",
      "recall=0.05  prec=(0.1, 0.47999999999999954)\n",
      "recall=0.1  prec=(0.1, 0.47999999999999954)\n",
      "recall=0.15  prec=(0.1, 0.47999999999999954)\n",
      "recall=0.2  prec=(0.1, 0.47999999999999954)\n",
      "recall=0.25  prec=(0.1, 0.47999999999999954)\n",
      "recall=0.3  prec=(0.1, 0.47999999999999954)\n",
      "recall=0.4  prec=(0.1, 0.47999999999999954)\n",
      "recall=0.5  prec=(0.1, 0.47999999999999954)\n",
      "AUPR: 0.052, Precision at 80% Recall: 0.002, Precision at 90% Recall: 0.002\n",
      "\n",
      "With New sliding windows......\n",
      "Evaluating on test split.\n",
      "recall=0.05  prec=(0.02040816326530612, 0.049999999999999156)\n",
      "recall=0.1  prec=(0.02040816326530612, 0.049999999999999156)\n",
      "recall=0.15  prec=(0.02040816326530612, 0.049999999999999156)\n",
      "recall=0.2  prec=(0.02040816326530612, 0.049999999999999156)\n",
      "recall=0.25  prec=(0.02040816326530612, 0.049999999999999156)\n",
      "recall=0.3  prec=(0.02040816326530612, 0.049999999999999156)\n",
      "recall=0.4  prec=(0.02040816326530612, 0.049999999999999156)\n",
      "recall=0.5  prec=(0.02040816326530612, 0.049999999999999156)\n",
      "AUPR: 0.013, Precision at 80% Recall: 0.002, Precision at 90% Recall: 0.002\n"
     ]
    }
   ],
   "source": [
    "run_evaluate(selected_deal_point)"
   ]
  },
  {
   "cell_type": "code",
   "execution_count": null,
   "metadata": {
    "id": "Ah5viK2T3OQ8"
   },
   "outputs": [],
   "source": []
  },
  {
   "cell_type": "code",
   "execution_count": 28,
   "metadata": {
    "id": "MVYIGZHZ3Pch"
   },
   "outputs": [],
   "source": [
    "selected_deal_point = '11'"
   ]
  },
  {
   "cell_type": "code",
   "execution_count": 29,
   "metadata": {
    "colab": {
     "base_uri": "https://localhost:8080/"
    },
    "id": "FaClh72G3Pkx",
    "outputId": "3cb1e17c-7ca1-4170-ec4a-06a6be9cb0cb"
   },
   "outputs": [
    {
     "name": "stdout",
     "output_type": "stream",
     "text": [
      "\n",
      "*******************\n",
      "\n",
      "Create features on deal point 11\n",
      "\n",
      "contract_23\n",
      "number of sub sections is 110\n",
      "first 10 section number is ['Section 1.01', 'Section 1.02', 'Section 2.01', 'Section 2.02', 'Section 2.03', 'Section 2.04', 'Section 2.05', 'Section 2.06', 'Section 2.07', 'Section 2.08']\n",
      "contract_95\n",
      "number of sub sections is 83\n",
      "first 10 section number is ['1.1', '1.2', '2.1', '2.2', '2.3', '2.4', '2.5', '2.6', '3.1', '3.2']\n",
      "contract_49\n",
      "number of sub sections is 87\n",
      "first 10 section number is ['1.1', '1.2', '1.3', '1.4', '1.5', '2.1', '2.2', '2.3', '2.4', '2.5']\n",
      "contract_36\n",
      "number of sub sections is 97\n",
      "first 10 section number is ['Section 1.1', 'Section 2.1', 'Section 2.2', 'Section 2.3', 'Section 2.4', 'Section 2.5', 'Section 2.6', 'Section 3.1', 'Section 3.2', 'Section 3.3']\n",
      "contract_84\n",
      "number of sub sections is 292\n",
      "first 10 section number is ['Section 1.1', 'Section 1.2', 'Section 2.1', 'Section 2.2', 'Section 2.3', 'Section 2.4', 'Section 2.5', 'Section 2.6', 'Section 2.7', 'Section 3.1']\n",
      "contract_88\n",
      "number of sub sections is 75\n",
      "first 10 section number is ['Section 1.1', 'Section 1.2', 'Section 2.1', 'Section 2.2', 'Section 2.3', 'Section 2.4', 'Section 2.5', 'Section 2.6', 'Section 3.1', 'Section 3.2']\n",
      "contract_121\n",
      "number of sub sections is 116\n",
      "first 10 section number is ['Section 1.1', 'Section 1.2', 'Section 2.1', 'Section 2.2', 'Section 2.3', 'Section 2.4', 'Section 2.5', 'Section 2.6', 'Section 2.7', 'Section 2.8']\n",
      "contract_109\n",
      "number of sub sections is 119\n",
      "first 10 section number is ['1.1', '1.2', '1.3', '1.4', '1.5', '1.6', '1.7', '1.8', '1.9', '1.1']\n",
      "contract_114\n",
      "number of sub sections is 96\n",
      "first 10 section number is ['Section 1.1', 'Section 1.2', 'Section 1.3', 'Section 1.4', 'Section 1.5', 'Section 1.6', 'Section 1.7', 'Section 2.1', 'Section 2.2', 'Section 2.3']\n",
      "contract_111\n",
      "number of sub sections is 106\n",
      "first 10 section number is ['1.1', '2.1', '2.2', '2.4', '2.5', '2.6', '2.7', '2.8', '2.9', '2.1']\n",
      "contract_83\n",
      "number of sub sections is 94\n",
      "first 10 section number is ['Section 1.01.', 'Section 1.02.', 'Section 2.01.', 'Section 2.02.', 'Section 2.03.', 'Section 2.04.', 'Section 2.05.', 'Section 2.06.', 'Section 2.07.', 'Section 2.08.']\n",
      "contract_78\n",
      "number of sub sections is 82\n",
      "first 10 section number is ['Section 1.1.', 'Section 1.2.', 'Section 1.3.', 'Section 2.1.', 'Section 2.2.', 'Section 3.1.', 'Section 3.2.', 'Section 3.3.', 'Section 3.4.', 'Section 3.5.']\n",
      "contract_6\n",
      "number of sub sections is 61\n",
      "first 10 section number is ['A.', 'B.', 'C.', 'D.', 'E.', 'F.', 'G.', '1.1', '1.2', '1.3']\n",
      "contract_115\n",
      "number of sub sections is 126\n",
      "first 10 section number is ['Section 1.01', 'Section 1.02', 'Section 2.01', 'Section 2.02', 'Section 2.03', 'Section 2.04', 'Section 2.05', 'Section 2.06', 'Section 2.07', 'Section 2.08']\n",
      "contract_24\n",
      "number of sub sections is 112\n",
      "first 10 section number is ['1.1', '1.2', '2.1', '2.2', '2.3', '2.4', '2.5', '2.6', '2.7', '3.1']\n",
      "contract_106\n",
      "number of sub sections is 48\n",
      "first 10 section number is ['2.01', '2.02', '3.02', '3.03', '3.04', '4.01', '4.02', '4.03', '5.01', '5.02']\n",
      "segment_start_index for contract_23 is [1631, 8771, 9460, 9607, 9806, 10236, 11573, 11596, 12769, 12910, 13028, 13135, 13292, 13427, 13496, 13568, 13850, 14039, 14358, 14539, 14793, 15267, 15665, 16617, 16920, 17086, 17291, 17547, 17667, 17741, 18800, 20148, 21148, 22171, 22635, 24300, 24598, 24734, 25095, 25330, 25401, 25491, 25610, 25682, 26323, 26597, 27231, 27500, 28027, 28422, 29471, 29773, 29932, 30126, 30381, 30496, 30566, 31569, 32850, 33821, 34654, 35102, 36561, 36867, 36999, 37345, 37572, 37642, 37723, 37792, 38310, 40275, 41768, 43479, 45172, 45668, 47171, 48996, 50183, 50442, 51501, 52355, 52436, 52497, 52567, 52696, 53093, 53225, 54497, 54600, 54694, 54973, 55416, 55884, 55951, 57453, 57647, 59084, 59481, 59535, 59719, 59808, 60053, 60238, 60306, 60685, 60840, 60970, 61033, 61167]\n",
      "segment_start_index for contract_95 is [960, 983, 1087, 1217, 1433, 2517, 5458, 5757, 6215, 6649, 7538, 8300, 9171, 11199, 11442, 12842, 13903, 14152, 16166, 16667, 17510, 18510, 18667, 18925, 20969, 23398, 23519, 26199, 27269, 28010, 29683, 31099, 32018, 32249, 32350, 34640, 36844, 38208, 38436, 38793, 38826, 38879, 39963, 40194, 40678]\n",
      "segment_start_index for contract_49 is [1120, 1157, 1280, 1524, 1741, 1825, 2203, 3549, 4637, 4915, 5070, 5278, 5466, 6696, 7134, 8062, 9098, 9192, 9330, 10104, 10461, 11561, 11768, 11868, 12162, 13274, 13726, 13883, 14377, 14470, 14565, 14647, 14755, 14945, 15679, 15787, 15829, 16771, 16922, 17291, 17496, 17591, 17712, 17770, 17912, 18443, 18753, 20826, 20925, 22605, 22692, 23087, 24106, 24221, 25277, 25499, 25949, 26047, 26124, 26204, 26359, 27157, 31006, 32512, 32591, 32722, 32944, 33364, 34691, 34835, 35627, 35849, 36108, 43648, 43679, 43992, 44085, 44540, 44798, 45030, 45190, 45568, 45631, 46950, 47391, 47602, 47728]\n",
      "segment_start_index for contract_36 is [1709, 1738, 1813, 2093, 2300, 2417, 2508, 2562, 3128, 4656, 5710, 5832, 6120, 6396, 6582, 7578, 7936, 8440, 8631, 9090, 9248, 9423, 9604, 9857, 10011, 10874, 11118, 11690, 12289, 13238, 13461, 13778, 13841, 13950, 14021, 14116, 14179, 14479, 14681, 14719, 15341, 15533, 15893, 16335, 16468, 16609, 16748, 18073, 18257, 18377, 18475, 18534, 18900, 18974, 19061, 19952, 21742, 22836, 24266, 24813, 27692, 28965, 29104, 29314, 30426, 30533, 32508, 34182, 34706, 34799, 34873, 34950, 35015, 35119, 35173, 35280, 35566, 36096, 36337, 37381, 37739, 39092, 39249, 39432, 39625, 39720, 39956, 40759, 40953, 41171, 41231, 41341, 41832, 42690, 43093, 43142, 43290]\n",
      "segment_start_index for contract_84 is [2198, 9773, 10323, 11798, 11958, 12181, 12393, 12441, 12722, 13374, 13716, 13937, 14192, 14284, 15049, 15312, 16838, 16952, 17073, 17337, 17742, 18320, 18423, 19691, 20290, 20851, 22218, 23475, 23581, 23734, 23893, 25799, 26705, 27563, 27952, 28523, 29729, 30823, 31062, 31153, 31257, 31293, 31398, 31471, 32041, 32721, 32846, 33942, 34359, 34896, 36260, 37472, 37585, 37736, 37887, 39745, 40237, 41044, 41449, 42008, 43118, 43539, 43760, 43858, 43928, 43954, 44051, 45010, 45072, 45298, 45472, 45700, 46170, 46332, 46934, 50577, 52595, 52676, 52903, 54678, 54751, 56140, 58666, 60605, 60752, 62422, 63668, 64117, 64199, 64245, 64535, 64671, 66280, 66343, 67302, 68236, 68374, 68406, 68531, 68622, 68625, 72268, 73172, 73609, 74084, 74268, 74386, 74689, 76155, 77270, 78062, 78358, 80966, 81042, 81349, 81576, 81683, 82003, 82283, 82385, 82627, 82745, 83149, 83325, 83904]\n",
      "segment_start_index for contract_88 is [972, 1076, 1473, 1785, 1949, 2274, 3912, 4049, 5676, 6162, 7053, 7487, 7950, 9724, 9823, 9929, 11687, 12493, 12765, 13029, 13415, 13822, 15260]\n",
      "segment_start_index for contract_121 is [1533, 7994, 8690, 8778, 8917, 9036, 9112, 9153, 9333, 9388, 9539, 11170, 13075, 13188, 13299, 13348, 13477, 13941, 14476, 14543, 15604, 15987, 16588, 17038, 18073, 18163, 18263, 18411, 18537, 20478, 22264, 22615, 23069, 23508, 26036, 27009, 27258, 27338, 27405, 27491, 27516, 27657, 27808, 28441, 29007, 29074, 29863, 30295, 30877, 31326, 32361, 32451, 32551, 32714, 32840, 34587, 36075, 36426, 36873, 37312, 39831, 40805, 41042, 41105, 41176, 41277, 41302, 41420, 41565, 41619, 41874, 41966, 45450, 48952, 49053, 50673, 51402, 54343, 57280, 57495, 59292, 60077, 60578, 60754, 60859, 60981, 61441, 61544, 61702, 62275, 63904, 64659, 64713, 65782, 66009, 66097, 66180, 66421, 67136, 69281, 69557, 73644, 73820, 73948, 74033, 74301, 74528, 74638, 74687, 74893, 75034, 75129, 75490, 75583, 75691, 75813]\n",
      "segment_start_index for contract_109 is [1781, 1867, 2069, 2166, 2195, 2873, 3000, 3139, 4138, 4205, 4268, 4348, 4404, 5016, 5216, 5389, 7396, 8589, 9697, 10437, 11083, 11461, 12475, 12588, 12700, 12925, 13709, 15933, 16198, 17491, 18542, 18769, 18978, 19370, 19531, 19852, 20450, 20562, 20714, 20842, 20889, 21012, 21287, 22055, 22357, 22768, 23139, 23893, 24442, 25453, 26408, 26876, 27205, 28177, 28239, 28357, 28567, 29073, 29773, 30039, 31156, 31514, 31738, 31845, 31887, 32041, 32198, 32298, 32344, 32446, 32641, 32863, 33224, 33533, 35670, 35983, 37120, 37662, 38837, 39043, 39184, 41449, 42075, 42857, 42972, 43201, 43335, 43510, 43743, 43868, 44865, 45041, 45195, 45359, 45526, 45723, 45784, 46084, 46286, 46574, 47248, 47923, 48521, 49709, 49827, 50049, 50125, 50204, 50402, 50918, 51395, 51450, 51496, 51753, 51928, 52238, 52367, 52481, 52590]\n",
      "segment_start_index for contract_114 is [1174, 1254, 1389, 1413, 2248, 4121, 4358, 4405, 4696, 5895, 6973, 7237, 7581, 7988, 8723, 9113, 9607, 9931, 10388, 10644, 10773, 11654, 11813, 12785, 13178, 13982, 14337, 15384, 15645, 15848, 17204, 17277, 17383, 17508, 17669, 17727, 17853, 18147, 18310, 18345, 18783, 19001, 19353, 19769, 20869, 21053, 21193, 21315, 21417, 21484, 21588, 21617, 21760, 21988, 22376, 25469, 25688, 25754, 26168, 27225, 27513, 27974, 29055, 31517, 34447, 35654, 36042, 36909, 37945, 38049, 38392, 38553, 38748, 38847, 38938, 39014, 39265, 40497, 40702, 43222, 43278, 43431, 43534, 44044, 44790, 44863, 45207, 45405, 45491, 45531, 45593, 45743, 45934, 45989, 46612, 47109]\n",
      "segment_start_index for contract_111 is [2106, 10792, 12766, 14337, 14521, 14814, 15019, 15202, 15533, 15717, 17204, 19743, 21810, 22131, 22287, 22412, 22476, 22858, 23087, 23335, 23856, 23902, 24146, 24357, 25837, 26480, 26679, 27392, 27512, 27617, 27904, 28284, 28550, 30429, 31025, 32526, 33171, 33270, 33429, 33538, 33661, 33751, 33810, 34722, 34908, 35091, 35373, 35721, 35845, 35934, 35994, 36135, 36263, 36348, 37188, 37446, 37720, 37984, 38425, 38673, 40741, 43653, 44193, 45149, 46294, 46296, 46802, 49711, 49824, 50270, 50336, 51996, 53419, 53538, 54106, 54383, 54611, 54717, 54861, 54956, 55061, 55266, 55437, 55542, 55684, 55741, 55922, 57063, 57415, 59478, 59656, 59851, 59994, 60044, 60450, 60697, 60894, 61058, 61690, 61798, 62563, 62653, 63325, 63504, 63635, 63826]\n",
      "segment_start_index for contract_83 is [875, 7302, 7877, 8346, 8625, 9272, 9467, 10286, 10382, 10497, 10617, 10658, 10746, 10803, 10854, 10966, 11145, 11422, 11603, 11844, 12487, 12894, 13326, 13445, 13622, 13746, 13867, 14242, 14355, 14979, 15637, 16809, 17855, 18482, 18792, 19611, 19730, 19832, 19924, 20029, 20137, 20302, 20498, 20666, 20879, 21019, 21115, 21202, 22155, 22227, 22291, 22346, 22601, 22875, 24374, 24724, 25059, 27390, 27468, 29938, 29961, 31029, 32167, 32202, 33669, 33778, 35310, 35850, 36123, 36149, 36233, 36415, 36582, 36681, 36728, 36894, 37050, 37499, 37702, 37774, 38714, 38889, 39126, 39219, 39526, 40954, 41126, 41400, 41555, 41947, 42021, 42126, 42176, 42310]\n",
      "segment_start_index for contract_78 is [1092, 1149, 1271, 1457, 1516, 1648, 2073, 3307, 3685, 4777, 5147, 5477, 6383, 6863, 7173, 7731, 8254, 8455, 8627, 9570, 9833, 11383, 12358, 12605, 12839, 13642, 13796, 15456, 16137, 17191, 17381, 17555, 17665, 17814, 17871, 18077, 18199, 18358, 18709, 18770, 18943, 19042, 19104, 19181, 19233, 19293, 19702, 22581, 25150, 26589, 27241, 28652, 29055, 30086, 30185, 30234, 31250, 31331, 31374, 31415, 31471, 31578, 31987, 32056, 32184, 32367, 32883, 33247, 34314, 35162, 35439, 35509, 35541, 35596, 35863, 36236, 36322, 36515, 36638, 37080, 37218, 37364]\n",
      "segment_start_index for contract_6 is [538, 727, 825, 908, 974, 1101, 1158, 5197, 5347, 5449, 5547, 6071, 6303, 7409, 7575, 7719, 8069, 8116, 17626, 20086, 23612, 23754, 24692, 25043, 25105, 25158, 25464, 25774, 25921, 25964, 25995, 26095, 26531, 26748, 26976, 27182, 27220, 27353, 27432, 27511, 28402, 29110, 29155, 29526, 30190, 30315, 30487, 30725, 30955, 31959, 32063, 32396, 32553, 32724, 33047, 33201, 33309, 33533, 33655, 33702, 33807]\n",
      "segment_start_index for contract_115 is [1126, 6224, 6898, 7037, 7457, 7503, 7827, 7978, 8060, 8348, 8486, 8841, 9446, 9568, 9668, 9720, 9869, 10213, 10514, 11012, 11346, 11552, 12117, 12372, 12618, 13510, 13608, 14510, 14654, 15335, 15665, 16626, 17574, 18168, 18597, 18719, 18988, 19182, 19273, 19396, 19461, 19524, 19782, 20217, 20421, 20618, 21123, 21228, 21250, 21363, 21419, 21508, 21604, 21661, 21879, 23463, 23992, 25217, 25686, 26126, 27882, 28088, 29737, 30714, 30815, 30859, 30976, 31140, 31239, 31374, 31510, 31876, 32198, 33124, 33868, 34003, 34127, 34357, 34664, 35005, 35260, 35335, 35444, 35786, 36005, 36381, 36435, 36929, 36999, 37093, 37215, 37264, 37457, 37675, 37735, 37798, 37897, 37933, 37986, 38081, 38189, 38295, 38368, 38429, 38588, 38707, 38936, 39056, 39158, 39202, 39370, 39458, 39588, 39757, 39881, 39937, 40000, 40295, 40591, 41046, 41183, 41252, 41356, 41570, 41640, 41798]\n",
      "segment_start_index for contract_24 is [1225, 1254, 1704, 1787, 2026, 2118, 2456, 2615, 2691, 3101, 3827, 5033, 7686, 7873, 8170, 9109, 9717, 9965, 10880, 11025, 11282, 11544, 11844, 12682, 13282, 13860, 13940, 14472, 14934, 15236, 16547, 17092, 17622, 17853, 18182, 18327, 18377, 18640, 18773, 18841, 19403, 19700, 20553, 21295, 21496, 22400, 22542, 22799, 23024, 23324, 24163, 24763, 25342, 25422, 25956, 26418, 26693, 27985, 28506, 29039, 29270, 29600, 29652, 29700, 29962, 30095, 30130, 30208, 30592, 32704, 34762, 38062, 41367, 42140, 43774, 44695, 45322, 46616, 47751, 47925, 48209, 48359, 48573, 48664, 48900, 49074, 49360, 49427, 49454, 49655, 49901, 50466, 51178, 51247, 51876, 52028, 53527, 53560, 53700, 53990, 55124, 55195, 55365, 55736, 55956, 56039, 56236, 56583, 56673, 56676, 56890, 56896]\n",
      "segment_start_index for contract_106 is [4906, 5121, 5687, 5780, 7327, 8025, 8591, 19648, 23310, 25889, 26264, 26365, 26940, 27066, 28233, 28667, 29224, 29451, 30006, 30786, 31803, 31976, 32387, 32675, 32796, 33143, 33257, 33369, 33493, 33674, 33892, 34050, 34526, 35428, 36209, 36707, 36781, 36888, 36925, 37288, 37475, 37510, 37733, 37856, 37909, 38047, 38146, 38238]\n",
      "Create features with original sliding windows......\n"
     ]
    },
    {
     "name": "stderr",
     "output_type": "stream",
     "text": [
      "100%|██████████| 16/16 [00:02<00:00,  6.35it/s]\n",
      "convert squad examples to features:   0%|          | 0/16 [00:00<?, ?it/s]"
     ]
    },
    {
     "name": "stdout",
     "output_type": "stream",
     "text": [
      "Number of sliding windows for question contract_23_Intervening Event Definition is 316\n",
      "Number of sliding windows for question contract_95_Intervening Event Definition is 246\n",
      "Number of sliding windows for question contract_49_Intervening Event Definition is 263\n",
      "Number of sliding windows for question contract_36_Intervening Event Definition is 257\n",
      "Number of sliding windows for question contract_84_Intervening Event Definition is 454\n",
      "Number of sliding windows for question contract_88_Intervening Event Definition is 83\n",
      "Number of sliding windows for question contract_121_Intervening Event Definition is 386\n",
      "Number of sliding windows for question contract_109_Intervening Event Definition is 316\n",
      "Number of sliding windows for question contract_114_Intervening Event Definition is 272\n",
      "Number of sliding windows for question contract_111_Intervening Event Definition is 338\n",
      "Number of sliding windows for question contract_83_Intervening Event Definition is 220\n",
      "Number of sliding windows for question contract_78_Intervening Event Definition is 218\n",
      "Number of sliding windows for question contract_6_Intervening Event Definition is 180\n",
      "Number of sliding windows for question contract_115_Intervening Event Definition is 211\n",
      "Number of sliding windows for question contract_24_Intervening Event Definition is 346\n",
      "Number of sliding windows for question contract_106_Intervening Event Definition is 195\n"
     ]
    },
    {
     "name": "stderr",
     "output_type": "stream",
     "text": [
      "convert squad examples to features: 100%|██████████| 16/16 [08:53<00:00, 33.33s/it]  \n",
      "add example index and unique id: 100%|██████████| 16/16 [00:00<00:00, 4791.78it/s]\n"
     ]
    },
    {
     "name": "stdout",
     "output_type": "stream",
     "text": [
      "features length =  4301\n",
      "\n",
      "8.91 min\n",
      "Create features with new sliding windows......\n"
     ]
    },
    {
     "name": "stderr",
     "output_type": "stream",
     "text": [
      "100%|██████████| 16/16 [00:02<00:00,  6.55it/s]\n",
      "convert squad examples to features:   0%|          | 0/16 [00:00<?, ?it/s]"
     ]
    },
    {
     "name": "stdout",
     "output_type": "stream",
     "text": [
      "Number of sliding windows for question contract_23_Intervening Event Definition is 355\n",
      "Number of sliding windows for question contract_95_Intervening Event Definition is 269\n",
      "Number of sliding windows for question contract_49_Intervening Event Definition is 293\n",
      "Number of sliding windows for question contract_36_Intervening Event Definition is 286\n",
      "Number of sliding windows for question contract_84_Intervening Event Definition is 503\n",
      "Number of sliding windows for question contract_88_Intervening Event Definition is 93\n",
      "Number of sliding windows for question contract_121_Intervening Event Definition is 423\n",
      "Number of sliding windows for question contract_109_Intervening Event Definition is 358\n",
      "Number of sliding windows for question contract_114_Intervening Event Definition is 311\n",
      "Number of sliding windows for question contract_111_Intervening Event Definition is 374\n",
      "Number of sliding windows for question contract_83_Intervening Event Definition is 248\n",
      "Number of sliding windows for question contract_78_Intervening Event Definition is 242\n",
      "Number of sliding windows for question contract_6_Intervening Event Definition is 196\n",
      "Number of sliding windows for question contract_115_Intervening Event Definition is 245\n",
      "Number of sliding windows for question contract_24_Intervening Event Definition is 389\n",
      "Number of sliding windows for question contract_106_Intervening Event Definition is 210\n"
     ]
    },
    {
     "name": "stderr",
     "output_type": "stream",
     "text": [
      "convert squad examples to features: 100%|██████████| 16/16 [09:03<00:00, 33.96s/it]  \n",
      "add example index and unique id: 100%|██████████| 16/16 [00:00<00:00, 4559.96it/s]\n"
     ]
    },
    {
     "name": "stdout",
     "output_type": "stream",
     "text": [
      "features length =  4795\n",
      "\n",
      "9.08 min\n"
     ]
    }
   ],
   "source": [
    "run_create_features(selected_deal_point)"
   ]
  },
  {
   "cell_type": "code",
   "execution_count": 30,
   "metadata": {
    "colab": {
     "base_uri": "https://localhost:8080/"
    },
    "id": "_QIzOkvB3WYd",
    "outputId": "ab2a399f-9b9e-43ea-aecc-18ce095bbf7e"
   },
   "outputs": [
    {
     "name": "stdout",
     "output_type": "stream",
     "text": [
      "\n",
      "*******************\n",
      "\n",
      "Evaluate on contract 11\n",
      "\n",
      "n_best_size=10\n",
      "\n",
      "With original sliding windows......\n",
      "Evaluation is based on n_best_size=10\n",
      "length of features is  4301\n",
      "length of dataset is  4301\n",
      "Evaluation done in total 2.35 mins (0.03 sec per example)\n",
      "exact: 43.75\n",
      "f1: 60.07015166616833\n",
      "total: 16\n",
      "HasAns_exact: 50.0\n",
      "HasAns_f1: 71.76020222155778\n",
      "HasAns_total: 12\n",
      "NoAns_exact: 25.0\n",
      "NoAns_f1: 25.0\n",
      "NoAns_total: 4\n",
      "best_exact: 43.75\n",
      "best_exact_thresh: 0.0\n",
      "best_f1: 60.070151666168314\n",
      "best_f1_thresh: 0.0\n",
      "\n",
      "With New sliding windows......\n",
      "Evaluation is based on n_best_size=10\n",
      "length of features is  4795\n",
      "length of dataset is  4795\n",
      "Evaluation done in total 2.62 mins (0.03 sec per example)\n",
      "exact: 50.0\n",
      "f1: 66.76512416075188\n",
      "total: 16\n",
      "HasAns_exact: 50.0\n",
      "HasAns_f1: 72.3534988810025\n",
      "HasAns_total: 12\n",
      "NoAns_exact: 50.0\n",
      "NoAns_f1: 50.0\n",
      "NoAns_total: 4\n",
      "best_exact: 50.0\n",
      "best_exact_thresh: 0.0\n",
      "best_f1: 66.76512416075188\n",
      "best_f1_thresh: 0.0\n",
      "/content/drive/.shortcut-targets-by-id/1QI32qih1bmZh5-UISjuEypWke0vN6OZM/Capstone for Data Science/Segmentation\n",
      "\n",
      "With original sliding windows......\n",
      "Evaluating on test split.\n",
      "recall=0.05  prec=(1.0, 0.98)\n",
      "recall=0.1  prec=(1.0, 0.96)\n",
      "recall=0.15  prec=(1.0, 0.96)\n",
      "recall=0.2  prec=(1.0, 0.95)\n",
      "recall=0.25  prec=(1.0, 0.95)\n",
      "recall=0.3  prec=(1.0, 0.94)\n",
      "recall=0.4  prec=(1.0, 0.8499999999999999)\n",
      "recall=0.5  prec=(1.0, 0.8199999999999998)\n",
      "AUPR: 0.767, Precision at 80% Recall: 0.500, Precision at 90% Recall: 0.367\n",
      "\n",
      "With New sliding windows......\n",
      "Evaluating on test split.\n",
      "recall=0.05  prec=(1.0, 0.98)\n",
      "recall=0.1  prec=(0.8, 0.96)\n",
      "recall=0.15  prec=(0.8, 0.96)\n",
      "recall=0.2  prec=(0.8, 0.96)\n",
      "recall=0.25  prec=(0.8, 0.96)\n",
      "recall=0.3  prec=(0.8, 0.94)\n",
      "recall=0.4  prec=(0.7272727272727273, 0.7699999999999998)\n",
      "recall=0.5  prec=(0.7272727272727273, 0.7399999999999998)\n",
      "AUPR: 0.660, Precision at 80% Recall: 0.500, Precision at 90% Recall: 0.220\n",
      "\n",
      "n_best_size=100\n",
      "\n",
      "With original sliding windows......\n",
      "Evaluation is based on n_best_size=100\n",
      "length of features is  4301\n",
      "length of dataset is  4301\n",
      "Evaluation done in total 2.36 mins (0.03 sec per example)\n",
      "exact: 43.75\n",
      "f1: 60.07015166616833\n",
      "total: 16\n",
      "HasAns_exact: 50.0\n",
      "HasAns_f1: 71.76020222155778\n",
      "HasAns_total: 12\n",
      "NoAns_exact: 25.0\n",
      "NoAns_f1: 25.0\n",
      "NoAns_total: 4\n",
      "best_exact: 43.75\n",
      "best_exact_thresh: 0.0\n",
      "best_f1: 60.070151666168314\n",
      "best_f1_thresh: 0.0\n",
      "\n",
      "With New sliding windows......\n",
      "Evaluation is based on n_best_size=100\n",
      "length of features is  4795\n",
      "length of dataset is  4795\n",
      "Evaluation done in total 2.62 mins (0.03 sec per example)\n",
      "exact: 50.0\n",
      "f1: 66.76512416075188\n",
      "total: 16\n",
      "HasAns_exact: 50.0\n",
      "HasAns_f1: 72.3534988810025\n",
      "HasAns_total: 12\n",
      "NoAns_exact: 50.0\n",
      "NoAns_f1: 50.0\n",
      "NoAns_total: 4\n",
      "best_exact: 50.0\n",
      "best_exact_thresh: 0.0\n",
      "best_f1: 66.76512416075188\n",
      "best_f1_thresh: 0.0\n",
      "/content/drive/.shortcut-targets-by-id/1QI32qih1bmZh5-UISjuEypWke0vN6OZM/Capstone for Data Science/Segmentation\n",
      "\n",
      "With original sliding windows......\n",
      "Evaluating on test split.\n",
      "recall=0.05  prec=(1.0, 0.98)\n",
      "recall=0.1  prec=(1.0, 0.96)\n",
      "recall=0.15  prec=(1.0, 0.96)\n",
      "recall=0.2  prec=(1.0, 0.94)\n",
      "recall=0.25  prec=(1.0, 0.94)\n",
      "recall=0.3  prec=(1.0, 0.9199999999999999)\n",
      "recall=0.4  prec=(1.0, 0.8199999999999998)\n",
      "recall=0.5  prec=(0.8571428571428571, 0.6699999999999997)\n",
      "AUPR: 0.737, Precision at 80% Recall: 0.476, Precision at 90% Recall: 0.333\n",
      "\n",
      "With New sliding windows......\n",
      "Evaluating on test split.\n",
      "recall=0.05  prec=(1.0, 0.98)\n",
      "recall=0.1  prec=(0.8, 0.96)\n",
      "recall=0.15  prec=(0.8, 0.96)\n",
      "recall=0.2  prec=(0.8, 0.95)\n",
      "recall=0.25  prec=(0.8, 0.95)\n",
      "recall=0.3  prec=(0.8, 0.9199999999999999)\n",
      "recall=0.4  prec=(0.75, 0.7699999999999998)\n",
      "recall=0.5  prec=(0.75, 0.6399999999999997)\n",
      "AUPR: 0.628, Precision at 80% Recall: 0.435, Precision at 90% Recall: 0.193\n"
     ]
    }
   ],
   "source": [
    "run_evaluate(selected_deal_point)"
   ]
  },
  {
   "cell_type": "code",
   "execution_count": 14,
   "metadata": {
    "id": "latTA6fjae-R"
   },
   "outputs": [],
   "source": []
  },
  {
   "cell_type": "code",
   "execution_count": 20,
   "metadata": {
    "id": "XDolMS6uafE4"
   },
   "outputs": [],
   "source": [
    "selected_deal_point = '12'"
   ]
  },
  {
   "cell_type": "code",
   "execution_count": 21,
   "metadata": {
    "colab": {
     "base_uri": "https://localhost:8080/"
    },
    "id": "yiY2ILpYah48",
    "outputId": "a5921ec0-e047-4468-b065-1115a2a8a91f"
   },
   "outputs": [
    {
     "metadata": {
      "tags": null
     },
     "name": "stdout",
     "output_type": "stream",
     "text": [
      "\n",
      "*******************\n",
      "\n",
      "Create features on deal point 12\n",
      "\n",
      "contract_23\n",
      "number of sub sections is 110\n",
      "first 10 section number is ['Section 1.01', 'Section 1.02', 'Section 2.01', 'Section 2.02', 'Section 2.03', 'Section 2.04', 'Section 2.05', 'Section 2.06', 'Section 2.07', 'Section 2.08']\n",
      "contract_95\n",
      "number of sub sections is 83\n",
      "first 10 section number is ['1.1', '1.2', '2.1', '2.2', '2.3', '2.4', '2.5', '2.6', '3.1', '3.2']\n",
      "contract_49\n",
      "number of sub sections is 87\n",
      "first 10 section number is ['1.1', '1.2', '1.3', '1.4', '1.5', '2.1', '2.2', '2.3', '2.4', '2.5']\n",
      "contract_36\n",
      "number of sub sections is 97\n",
      "first 10 section number is ['Section 1.1', 'Section 2.1', 'Section 2.2', 'Section 2.3', 'Section 2.4', 'Section 2.5', 'Section 2.6', 'Section 3.1', 'Section 3.2', 'Section 3.3']\n",
      "contract_84\n",
      "number of sub sections is 292\n",
      "first 10 section number is ['Section 1.1', 'Section 1.2', 'Section 2.1', 'Section 2.2', 'Section 2.3', 'Section 2.4', 'Section 2.5', 'Section 2.6', 'Section 2.7', 'Section 3.1']\n",
      "contract_88\n",
      "number of sub sections is 75\n",
      "first 10 section number is ['Section 1.1', 'Section 1.2', 'Section 2.1', 'Section 2.2', 'Section 2.3', 'Section 2.4', 'Section 2.5', 'Section 2.6', 'Section 3.1', 'Section 3.2']\n",
      "contract_121\n",
      "number of sub sections is 116\n",
      "first 10 section number is ['Section 1.1', 'Section 1.2', 'Section 2.1', 'Section 2.2', 'Section 2.3', 'Section 2.4', 'Section 2.5', 'Section 2.6', 'Section 2.7', 'Section 2.8']\n",
      "contract_109\n",
      "number of sub sections is 119\n",
      "first 10 section number is ['1.1', '1.2', '1.3', '1.4', '1.5', '1.6', '1.7', '1.8', '1.9', '1.1']\n",
      "contract_114\n",
      "number of sub sections is 96\n",
      "first 10 section number is ['Section 1.1', 'Section 1.2', 'Section 1.3', 'Section 1.4', 'Section 1.5', 'Section 1.6', 'Section 1.7', 'Section 2.1', 'Section 2.2', 'Section 2.3']\n",
      "contract_111\n",
      "number of sub sections is 106\n",
      "first 10 section number is ['1.1', '2.1', '2.2', '2.4', '2.5', '2.6', '2.7', '2.8', '2.9', '2.1']\n",
      "contract_83\n",
      "number of sub sections is 94\n",
      "first 10 section number is ['Section 1.01.', 'Section 1.02.', 'Section 2.01.', 'Section 2.02.', 'Section 2.03.', 'Section 2.04.', 'Section 2.05.', 'Section 2.06.', 'Section 2.07.', 'Section 2.08.']\n",
      "contract_78\n",
      "number of sub sections is 82\n",
      "first 10 section number is ['Section 1.1.', 'Section 1.2.', 'Section 1.3.', 'Section 2.1.', 'Section 2.2.', 'Section 3.1.', 'Section 3.2.', 'Section 3.3.', 'Section 3.4.', 'Section 3.5.']\n",
      "contract_6\n",
      "number of sub sections is 61\n",
      "first 10 section number is ['A.', 'B.', 'C.', 'D.', 'E.', 'F.', 'G.', '1.1', '1.2', '1.3']\n",
      "contract_115\n",
      "number of sub sections is 126\n",
      "first 10 section number is ['Section 1.01', 'Section 1.02', 'Section 2.01', 'Section 2.02', 'Section 2.03', 'Section 2.04', 'Section 2.05', 'Section 2.06', 'Section 2.07', 'Section 2.08']\n",
      "contract_24\n",
      "number of sub sections is 112\n",
      "first 10 section number is ['1.1', '1.2', '2.1', '2.2', '2.3', '2.4', '2.5', '2.6', '2.7', '3.1']\n",
      "contract_106\n",
      "number of sub sections is 48\n",
      "first 10 section number is ['2.01', '2.02', '3.02', '3.03', '3.04', '4.01', '4.02', '4.03', '5.01', '5.02']\n",
      "segment_start_index for contract_23 is [1631, 8771, 9460, 9607, 9806, 10236, 11573, 11596, 12769, 12910, 13028, 13135, 13292, 13427, 13496, 13568, 13850, 14039, 14358, 14539, 14793, 15267, 15665, 16617, 16920, 17086, 17291, 17547, 17667, 17741, 18800, 20148, 21148, 22171, 22635, 24300, 24598, 24734, 25095, 25330, 25401, 25491, 25610, 25682, 26323, 26597, 27231, 27500, 28027, 28422, 29471, 29773, 29932, 30126, 30381, 30496, 30566, 31569, 32850, 33821, 34654, 35102, 36561, 36867, 36999, 37345, 37572, 37642, 37723, 37792, 38310, 40275, 41768, 43479, 45172, 45668, 47171, 48996, 50183, 50442, 51501, 52355, 52436, 52497, 52567, 52696, 53093, 53225, 54497, 54600, 54694, 54973, 55416, 55884, 55951, 57453, 57647, 59084, 59481, 59535, 59719, 59808, 60053, 60238, 60306, 60685, 60840, 60970, 61033, 61167]\n",
      "segment_start_index for contract_95 is [960, 983, 1087, 1217, 1433, 2517, 5458, 5757, 6215, 6649, 7538, 8300, 9171, 11199, 11442, 12842, 13903, 14152, 16166, 16667, 17510, 18510, 18667, 18925, 20969, 23398, 23519, 26199, 27269, 28010, 29683, 31099, 32018, 32249, 32350, 34640, 36844, 38208, 38436, 38793, 38826, 38879, 39963, 40194, 40678]\n",
      "segment_start_index for contract_49 is [1120, 1157, 1280, 1524, 1741, 1825, 2203, 3549, 4637, 4915, 5070, 5278, 5466, 6696, 7134, 8062, 9098, 9192, 9330, 10104, 10461, 11561, 11768, 11868, 12162, 13274, 13726, 13883, 14377, 14470, 14565, 14647, 14755, 14945, 15679, 15787, 15829, 16771, 16922, 17291, 17496, 17591, 17712, 17770, 17912, 18443, 18753, 20826, 20925, 22605, 22692, 23087, 24106, 24221, 25277, 25499, 25949, 26047, 26124, 26204, 26359, 27157, 31006, 32512, 32591, 32722, 32944, 33364, 34691, 34835, 35627, 35849, 36108, 43648, 43679, 43992, 44085, 44540, 44798, 45030, 45190, 45568, 45631, 46950, 47391, 47602, 47728]\n",
      "segment_start_index for contract_36 is [1709, 1738, 1813, 2093, 2300, 2417, 2508, 2562, 3128, 4656, 5710, 5832, 6120, 6396, 6582, 7578, 7936, 8440, 8631, 9090, 9248, 9423, 9604, 9857, 10011, 10874, 11118, 11690, 12289, 13238, 13461, 13778, 13841, 13950, 14021, 14116, 14179, 14479, 14681, 14719, 15341, 15533, 15893, 16335, 16468, 16609, 16748, 18073, 18257, 18377, 18475, 18534, 18900, 18974, 19061, 19952, 21742, 22836, 24266, 24813, 27692, 28965, 29104, 29314, 30426, 30533, 32508, 34182, 34706, 34799, 34873, 34950, 35015, 35119, 35173, 35280, 35566, 36096, 36337, 37381, 37739, 39092, 39249, 39432, 39625, 39720, 39956, 40759, 40953, 41171, 41231, 41341, 41832, 42690, 43093, 43142, 43290]\n",
      "segment_start_index for contract_84 is [2198, 9773, 10323, 11798, 11958, 12181, 12393, 12441, 12722, 13374, 13716, 13937, 14192, 14284, 15049, 15312, 16838, 16952, 17073, 17337, 17742, 18320, 18423, 19691, 20290, 20851, 22218, 23475, 23581, 23734, 23893, 25799, 26705, 27563, 27952, 28523, 29729, 30823, 31062, 31153, 31257, 31293, 31398, 31471, 32041, 32721, 32846, 33942, 34359, 34896, 36260, 37472, 37585, 37736, 37887, 39745, 40237, 41044, 41449, 42008, 43118, 43539, 43760, 43858, 43928, 43954, 44051, 45010, 45072, 45298, 45472, 45700, 46170, 46332, 46934, 50577, 52595, 52676, 52903, 54678, 54751, 56140, 58666, 60605, 60752, 62422, 63668, 64117, 64199, 64245, 64535, 64671, 66280, 66343, 67302, 68236, 68374, 68406, 68531, 68622, 68625, 72268, 73172, 73609, 74084, 74268, 74386, 74689, 76155, 77270, 78062, 78358, 80966, 81042, 81349, 81576, 81683, 82003, 82283, 82385, 82627, 82745, 83149, 83325, 83904]\n",
      "segment_start_index for contract_88 is [972, 1076, 1473, 1785, 1949, 2274, 3912, 4049, 5676, 6162, 7053, 7487, 7950, 9724, 9823, 9929, 11687, 12493, 12765, 13029, 13415, 13822, 15260]\n",
      "segment_start_index for contract_121 is [1533, 7994, 8690, 8778, 8917, 9036, 9112, 9153, 9333, 9388, 9539, 11170, 13075, 13188, 13299, 13348, 13477, 13941, 14476, 14543, 15604, 15987, 16588, 17038, 18073, 18163, 18263, 18411, 18537, 20478, 22264, 22615, 23069, 23508, 26036, 27009, 27258, 27338, 27405, 27491, 27516, 27657, 27808, 28441, 29007, 29074, 29863, 30295, 30877, 31326, 32361, 32451, 32551, 32714, 32840, 34587, 36075, 36426, 36873, 37312, 39831, 40805, 41042, 41105, 41176, 41277, 41302, 41420, 41565, 41619, 41874, 41966, 45450, 48952, 49053, 50673, 51402, 54343, 57280, 57495, 59292, 60077, 60578, 60754, 60859, 60981, 61441, 61544, 61702, 62275, 63904, 64659, 64713, 65782, 66009, 66097, 66180, 66421, 67136, 69281, 69557, 73644, 73820, 73948, 74033, 74301, 74528, 74638, 74687, 74893, 75034, 75129, 75490, 75583, 75691, 75813]\n",
      "segment_start_index for contract_109 is [1781, 1867, 2069, 2166, 2195, 2873, 3000, 3139, 4138, 4205, 4268, 4348, 4404, 5016, 5216, 5389, 7396, 8589, 9697, 10437, 11083, 11461, 12475, 12588, 12700, 12925, 13709, 15933, 16198, 17491, 18542, 18769, 18978, 19370, 19531, 19852, 20450, 20562, 20714, 20842, 20889, 21012, 21287, 22055, 22357, 22768, 23139, 23893, 24442, 25453, 26408, 26876, 27205, 28177, 28239, 28357, 28567, 29073, 29773, 30039, 31156, 31514, 31738, 31845, 31887, 32041, 32198, 32298, 32344, 32446, 32641, 32863, 33224, 33533, 35670, 35983, 37120, 37662, 38837, 39043, 39184, 41449, 42075, 42857, 42972, 43201, 43335, 43510, 43743, 43868, 44865, 45041, 45195, 45359, 45526, 45723, 45784, 46084, 46286, 46574, 47248, 47923, 48521, 49709, 49827, 50049, 50125, 50204, 50402, 50918, 51395, 51450, 51496, 51753, 51928, 52238, 52367, 52481, 52590]\n",
      "segment_start_index for contract_114 is [1174, 1254, 1389, 1413, 2248, 4121, 4358, 4405, 4696, 5895, 6973, 7237, 7581, 7988, 8723, 9113, 9607, 9931, 10388, 10644, 10773, 11654, 11813, 12785, 13178, 13982, 14337, 15384, 15645, 15848, 17204, 17277, 17383, 17508, 17669, 17727, 17853, 18147, 18310, 18345, 18783, 19001, 19353, 19769, 20869, 21053, 21193, 21315, 21417, 21484, 21588, 21617, 21760, 21988, 22376, 25469, 25688, 25754, 26168, 27225, 27513, 27974, 29055, 31517, 34447, 35654, 36042, 36909, 37945, 38049, 38392, 38553, 38748, 38847, 38938, 39014, 39265, 40497, 40702, 43222, 43278, 43431, 43534, 44044, 44790, 44863, 45207, 45405, 45491, 45531, 45593, 45743, 45934, 45989, 46612, 47109]\n",
      "segment_start_index for contract_111 is [2106, 10792, 12766, 14337, 14521, 14814, 15019, 15202, 15533, 15717, 17204, 19743, 21810, 22131, 22287, 22412, 22476, 22858, 23087, 23335, 23856, 23902, 24146, 24357, 25837, 26480, 26679, 27392, 27512, 27617, 27904, 28284, 28550, 30429, 31025, 32526, 33171, 33270, 33429, 33538, 33661, 33751, 33810, 34722, 34908, 35091, 35373, 35721, 35845, 35934, 35994, 36135, 36263, 36348, 37188, 37446, 37720, 37984, 38425, 38673, 40741, 43653, 44193, 45149, 46294, 46296, 46802, 49711, 49824, 50270, 50336, 51996, 53419, 53538, 54106, 54383, 54611, 54717, 54861, 54956, 55061, 55266, 55437, 55542, 55684, 55741, 55922, 57063, 57415, 59478, 59656, 59851, 59994, 60044, 60450, 60697, 60894, 61058, 61690, 61798, 62563, 62653, 63325, 63504, 63635, 63826]\n",
      "segment_start_index for contract_83 is [875, 7302, 7877, 8346, 8625, 9272, 9467, 10286, 10382, 10497, 10617, 10658, 10746, 10803, 10854, 10966, 11145, 11422, 11603, 11844, 12487, 12894, 13326, 13445, 13622, 13746, 13867, 14242, 14355, 14979, 15637, 16809, 17855, 18482, 18792, 19611, 19730, 19832, 19924, 20029, 20137, 20302, 20498, 20666, 20879, 21019, 21115, 21202, 22155, 22227, 22291, 22346, 22601, 22875, 24374, 24724, 25059, 27390, 27468, 29938, 29961, 31029, 32167, 32202, 33669, 33778, 35310, 35850, 36123, 36149, 36233, 36415, 36582, 36681, 36728, 36894, 37050, 37499, 37702, 37774, 38714, 38889, 39126, 39219, 39526, 40954, 41126, 41400, 41555, 41947, 42021, 42126, 42176, 42310]\n",
      "segment_start_index for contract_78 is [1092, 1149, 1271, 1457, 1516, 1648, 2073, 3307, 3685, 4777, 5147, 5477, 6383, 6863, 7173, 7731, 8254, 8455, 8627, 9570, 9833, 11383, 12358, 12605, 12839, 13642, 13796, 15456, 16137, 17191, 17381, 17555, 17665, 17814, 17871, 18077, 18199, 18358, 18709, 18770, 18943, 19042, 19104, 19181, 19233, 19293, 19702, 22581, 25150, 26589, 27241, 28652, 29055, 30086, 30185, 30234, 31250, 31331, 31374, 31415, 31471, 31578, 31987, 32056, 32184, 32367, 32883, 33247, 34314, 35162, 35439, 35509, 35541, 35596, 35863, 36236, 36322, 36515, 36638, 37080, 37218, 37364]\n",
      "segment_start_index for contract_6 is [538, 727, 825, 908, 974, 1101, 1158, 5197, 5347, 5449, 5547, 6071, 6303, 7409, 7575, 7719, 8069, 8116, 17626, 20086, 23612, 23754, 24692, 25043, 25105, 25158, 25464, 25774, 25921, 25964, 25995, 26095, 26531, 26748, 26976, 27182, 27220, 27353, 27432, 27511, 28402, 29110, 29155, 29526, 30190, 30315, 30487, 30725, 30955, 31959, 32063, 32396, 32553, 32724, 33047, 33201, 33309, 33533, 33655, 33702, 33807]\n",
      "segment_start_index for contract_115 is [1126, 6224, 6898, 7037, 7457, 7503, 7827, 7978, 8060, 8348, 8486, 8841, 9446, 9568, 9668, 9720, 9869, 10213, 10514, 11012, 11346, 11552, 12117, 12372, 12618, 13510, 13608, 14510, 14654, 15335, 15665, 16626, 17574, 18168, 18597, 18719, 18988, 19182, 19273, 19396, 19461, 19524, 19782, 20217, 20421, 20618, 21123, 21228, 21250, 21363, 21419, 21508, 21604, 21661, 21879, 23463, 23992, 25217, 25686, 26126, 27882, 28088, 29737, 30714, 30815, 30859, 30976, 31140, 31239, 31374, 31510, 31876, 32198, 33124, 33868, 34003, 34127, 34357, 34664, 35005, 35260, 35335, 35444, 35786, 36005, 36381, 36435, 36929, 36999, 37093, 37215, 37264, 37457, 37675, 37735, 37798, 37897, 37933, 37986, 38081, 38189, 38295, 38368, 38429, 38588, 38707, 38936, 39056, 39158, 39202, 39370, 39458, 39588, 39757, 39881, 39937, 40000, 40295, 40591, 41046, 41183, 41252, 41356, 41570, 41640, 41798]\n",
      "segment_start_index for contract_24 is [1225, 1254, 1704, 1787, 2026, 2118, 2456, 2615, 2691, 3101, 3827, 5033, 7686, 7873, 8170, 9109, 9717, 9965, 10880, 11025, 11282, 11544, 11844, 12682, 13282, 13860, 13940, 14472, 14934, 15236, 16547, 17092, 17622, 17853, 18182, 18327, 18377, 18640, 18773, 18841, 19403, 19700, 20553, 21295, 21496, 22400, 22542, 22799, 23024, 23324, 24163, 24763, 25342, 25422, 25956, 26418, 26693, 27985, 28506, 29039, 29270, 29600, 29652, 29700, 29962, 30095, 30130, 30208, 30592, 32704, 34762, 38062, 41367, 42140, 43774, 44695, 45322, 46616, 47751, 47925, 48209, 48359, 48573, 48664, 48900, 49074, 49360, 49427, 49454, 49655, 49901, 50466, 51178, 51247, 51876, 52028, 53527, 53560, 53700, 53990, 55124, 55195, 55365, 55736, 55956, 56039, 56236, 56583, 56673, 56676, 56890, 56896]\n",
      "segment_start_index for contract_106 is [4906, 5121, 5687, 5780, 7327, 8025, 8591, 19648, 23310, 25889, 26264, 26365, 26940, 27066, 28233, 28667, 29224, 29451, 30006, 30786, 31803, 31976, 32387, 32675, 32796, 33143, 33257, 33369, 33493, 33674, 33892, 34050, 34526, 35428, 36209, 36707, 36781, 36888, 36925, 37288, 37475, 37510, 37733, 37856, 37909, 38047, 38146, 38238]\n",
      "Create features with original sliding windows......\n"
     ]
    },
    {
     "metadata": {
      "tags": null
     },
     "name": "stderr",
     "output_type": "stream",
     "text": [
      "100%|██████████| 16/16 [00:02<00:00,  6.13it/s]\n",
      "convert squad examples to features:   0%|          | 0/16 [00:00<?, ?it/s]"
     ]
    },
    {
     "metadata": {
      "tags": null
     },
     "name": "stdout",
     "output_type": "stream",
     "text": [
      "Number of sliding windows for question contract_23_Knowledge Definition is 316\n",
      "Number of sliding windows for question contract_95_Knowledge Definition is 246\n",
      "Number of sliding windows for question contract_49_Knowledge Definition is 263\n",
      "Number of sliding windows for question contract_36_Knowledge Definition is 257\n",
      "Number of sliding windows for question contract_84_Knowledge Definition is 454\n",
      "Number of sliding windows for question contract_88_Knowledge Definition is 83\n",
      "Number of sliding windows for question contract_121_Knowledge Definition is 386\n",
      "Number of sliding windows for question contract_109_Knowledge Definition is 316\n",
      "Number of sliding windows for question contract_114_Knowledge Definition is 272\n",
      "Number of sliding windows for question contract_111_Knowledge Definition is 338\n",
      "Number of sliding windows for question contract_83_Knowledge Definition is 220\n",
      "Number of sliding windows for question contract_78_Knowledge Definition is 218\n",
      "Number of sliding windows for question contract_6_Knowledge Definition is 180\n",
      "Number of sliding windows for question contract_115_Knowledge Definition is 211\n",
      "Number of sliding windows for question contract_24_Knowledge Definition is 346\n",
      "Number of sliding windows for question contract_106_Knowledge Definition is 195\n"
     ]
    },
    {
     "metadata": {
      "tags": null
     },
     "name": "stderr",
     "output_type": "stream",
     "text": [
      "convert squad examples to features: 100%|██████████| 16/16 [08:55<00:00, 33.49s/it]  \n",
      "add example index and unique id: 100%|██████████| 16/16 [00:00<00:00, 4808.26it/s]\n"
     ]
    },
    {
     "metadata": {
      "tags": null
     },
     "name": "stdout",
     "output_type": "stream",
     "text": [
      "features length =  4301\n",
      "\n",
      "8.95 min\n",
      "Create features with new sliding windows......\n"
     ]
    },
    {
     "metadata": {
      "tags": null
     },
     "name": "stderr",
     "output_type": "stream",
     "text": [
      "100%|██████████| 16/16 [00:02<00:00,  6.22it/s]\n",
      "convert squad examples to features:   0%|          | 0/16 [00:00<?, ?it/s]"
     ]
    },
    {
     "metadata": {
      "tags": null
     },
     "name": "stdout",
     "output_type": "stream",
     "text": [
      "Number of sliding windows for question contract_23_Knowledge Definition is 355\n",
      "Number of sliding windows for question contract_95_Knowledge Definition is 269\n",
      "Number of sliding windows for question contract_49_Knowledge Definition is 293\n",
      "Number of sliding windows for question contract_36_Knowledge Definition is 286\n",
      "Number of sliding windows for question contract_84_Knowledge Definition is 503\n",
      "Number of sliding windows for question contract_88_Knowledge Definition is 93\n",
      "Number of sliding windows for question contract_121_Knowledge Definition is 423\n",
      "Number of sliding windows for question contract_109_Knowledge Definition is 358\n",
      "Number of sliding windows for question contract_114_Knowledge Definition is 311\n",
      "Number of sliding windows for question contract_111_Knowledge Definition is 374\n",
      "Number of sliding windows for question contract_83_Knowledge Definition is 248\n",
      "Number of sliding windows for question contract_78_Knowledge Definition is 242\n",
      "Number of sliding windows for question contract_6_Knowledge Definition is 196\n",
      "Number of sliding windows for question contract_115_Knowledge Definition is 245\n",
      "Number of sliding windows for question contract_24_Knowledge Definition is 389\n",
      "Number of sliding windows for question contract_106_Knowledge Definition is 210\n"
     ]
    },
    {
     "metadata": {
      "tags": null
     },
     "name": "stderr",
     "output_type": "stream",
     "text": [
      "convert squad examples to features: 100%|██████████| 16/16 [09:08<00:00, 34.29s/it]  \n",
      "add example index and unique id: 100%|██████████| 16/16 [00:00<00:00, 4409.54it/s]\n"
     ]
    },
    {
     "metadata": {
      "tags": null
     },
     "name": "stdout",
     "output_type": "stream",
     "text": [
      "features length =  4795\n",
      "\n",
      "9.17 min\n"
     ]
    }
   ],
   "source": [
    "run_create_features(selected_deal_point)"
   ]
  },
  {
   "cell_type": "code",
   "execution_count": 22,
   "metadata": {
    "colab": {
     "base_uri": "https://localhost:8080/"
    },
    "id": "EE3YZZMMah8Z",
    "outputId": "b6932400-b0ec-4ef6-d27c-35224777aa10"
   },
   "outputs": [
    {
     "name": "stdout",
     "output_type": "stream",
     "text": [
      "\n",
      "*******************\n",
      "\n",
      "Evaluate on contract 12\n",
      "\n",
      "n_best_size=10\n",
      "\n",
      "With original sliding windows......\n",
      "Evaluation is based on n_best_size=10\n",
      "length of features is  4301\n",
      "length of dataset is  4301\n",
      "Evaluation done in total 2.34 mins (0.03 sec per example)\n",
      "exact: 43.75\n",
      "f1: 81.4358701495621\n",
      "total: 16\n",
      "HasAns_exact: 40.0\n",
      "HasAns_f1: 80.19826149286625\n",
      "HasAns_total: 15\n",
      "NoAns_exact: 100.0\n",
      "NoAns_f1: 100.0\n",
      "NoAns_total: 1\n",
      "best_exact: 43.75\n",
      "best_exact_thresh: 0.0\n",
      "best_f1: 81.4358701495621\n",
      "best_f1_thresh: 0.0\n",
      "\n",
      "With New sliding windows......\n",
      "Evaluation is based on n_best_size=10\n",
      "length of features is  4795\n",
      "length of dataset is  4795\n",
      "Evaluation done in total 2.69 mins (0.03 sec per example)\n",
      "exact: 50.0\n",
      "f1: 84.03197190075929\n",
      "total: 16\n",
      "HasAns_exact: 46.666666666666664\n",
      "HasAns_f1: 82.96743669414325\n",
      "HasAns_total: 15\n",
      "NoAns_exact: 100.0\n",
      "NoAns_f1: 100.0\n",
      "NoAns_total: 1\n",
      "best_exact: 50.0\n",
      "best_exact_thresh: 0.0\n",
      "best_f1: 84.03197190075929\n",
      "best_f1_thresh: 0.0\n",
      "/content/drive/.shortcut-targets-by-id/1QI32qih1bmZh5-UISjuEypWke0vN6OZM/Capstone for Data Science/Segmentation\n",
      "\n",
      "With original sliding windows......\n",
      "Evaluating on test split.\n",
      "recall=0.05  prec=(1.0, 0.98)\n",
      "recall=0.1  prec=(1.0, 0.98)\n",
      "recall=0.15  prec=(1.0, 0.98)\n",
      "recall=0.2  prec=(1.0, 0.97)\n",
      "recall=0.25  prec=(1.0, 0.97)\n",
      "recall=0.3  prec=(1.0, 0.97)\n",
      "recall=0.4  prec=(1.0, 0.8199999999999998)\n",
      "recall=0.5  prec=(1.0, 0.8199999999999998)\n",
      "AUPR: 1.000, Precision at 80% Recall: 1.000, Precision at 90% Recall: 1.000\n",
      "\n",
      "With New sliding windows......\n",
      "Evaluating on test split.\n",
      "recall=0.05  prec=(1.0, 0.98)\n",
      "recall=0.1  prec=(1.0, 0.98)\n",
      "recall=0.15  prec=(1.0, 0.98)\n",
      "recall=0.2  prec=(1.0, 0.98)\n",
      "recall=0.25  prec=(1.0, 0.98)\n",
      "recall=0.3  prec=(1.0, 0.97)\n",
      "recall=0.4  prec=(1.0, 0.8199999999999998)\n",
      "recall=0.5  prec=(1.0, 0.8199999999999998)\n",
      "AUPR: 1.000, Precision at 80% Recall: 1.000, Precision at 90% Recall: 1.000\n",
      "\n",
      "n_best_size=100\n",
      "\n",
      "With original sliding windows......\n",
      "Evaluation is based on n_best_size=100\n",
      "length of features is  4301\n",
      "length of dataset is  4301\n",
      "Evaluation done in total 2.43 mins (0.03 sec per example)\n",
      "exact: 43.75\n",
      "f1: 81.4358701495621\n",
      "total: 16\n",
      "HasAns_exact: 40.0\n",
      "HasAns_f1: 80.19826149286625\n",
      "HasAns_total: 15\n",
      "NoAns_exact: 100.0\n",
      "NoAns_f1: 100.0\n",
      "NoAns_total: 1\n",
      "best_exact: 43.75\n",
      "best_exact_thresh: 0.0\n",
      "best_f1: 81.4358701495621\n",
      "best_f1_thresh: 0.0\n",
      "\n",
      "With New sliding windows......\n",
      "Evaluation is based on n_best_size=100\n",
      "length of features is  4795\n",
      "length of dataset is  4795\n",
      "Evaluation done in total 2.71 mins (0.03 sec per example)\n",
      "exact: 50.0\n",
      "f1: 84.03197190075929\n",
      "total: 16\n",
      "HasAns_exact: 46.666666666666664\n",
      "HasAns_f1: 82.96743669414325\n",
      "HasAns_total: 15\n",
      "NoAns_exact: 100.0\n",
      "NoAns_f1: 100.0\n",
      "NoAns_total: 1\n",
      "best_exact: 50.0\n",
      "best_exact_thresh: 0.0\n",
      "best_f1: 84.03197190075929\n",
      "best_f1_thresh: 0.0\n",
      "/content/drive/.shortcut-targets-by-id/1QI32qih1bmZh5-UISjuEypWke0vN6OZM/Capstone for Data Science/Segmentation\n",
      "\n",
      "With original sliding windows......\n",
      "Evaluating on test split.\n",
      "recall=0.05  prec=(1.0, 0.98)\n",
      "recall=0.1  prec=(1.0, 0.98)\n",
      "recall=0.15  prec=(1.0, 0.98)\n",
      "recall=0.2  prec=(1.0, 0.97)\n",
      "recall=0.25  prec=(1.0, 0.97)\n",
      "recall=0.3  prec=(1.0, 0.97)\n",
      "recall=0.4  prec=(1.0, 0.8099999999999998)\n",
      "recall=0.5  prec=(1.0, 0.8099999999999998)\n",
      "AUPR: 1.000, Precision at 80% Recall: 1.000, Precision at 90% Recall: 1.000\n",
      "\n",
      "With New sliding windows......\n",
      "Evaluating on test split.\n",
      "recall=0.05  prec=(1.0, 0.98)\n",
      "recall=0.1  prec=(1.0, 0.98)\n",
      "recall=0.15  prec=(1.0, 0.98)\n",
      "recall=0.2  prec=(1.0, 0.98)\n",
      "recall=0.25  prec=(1.0, 0.98)\n",
      "recall=0.3  prec=(1.0, 0.97)\n",
      "recall=0.4  prec=(1.0, 0.8099999999999998)\n",
      "recall=0.5  prec=(1.0, 0.8099999999999998)\n",
      "AUPR: 1.000, Precision at 80% Recall: 1.000, Precision at 90% Recall: 1.000\n"
     ]
    }
   ],
   "source": [
    "run_evaluate(selected_deal_point)"
   ]
  },
  {
   "cell_type": "code",
   "execution_count": 15,
   "metadata": {
    "id": "yZoV8M6JaiAF"
   },
   "outputs": [],
   "source": []
  },
  {
   "cell_type": "code",
   "execution_count": 23,
   "metadata": {
    "id": "iSm7OQZUaiDM"
   },
   "outputs": [],
   "source": [
    "selected_deal_point = '4'"
   ]
  },
  {
   "cell_type": "code",
   "execution_count": 24,
   "metadata": {
    "colab": {
     "base_uri": "https://localhost:8080/"
    },
    "id": "AK5GGWK4aiFj",
    "outputId": "ceadf744-9aed-4ab1-83aa-304c008aa0d1"
   },
   "outputs": [
    {
     "metadata": {
      "tags": null
     },
     "name": "stdout",
     "output_type": "stream",
     "text": [
      "\n",
      "*******************\n",
      "\n",
      "Create features on deal point 4\n",
      "\n",
      "contract_23\n",
      "number of sub sections is 110\n",
      "first 10 section number is ['Section 1.01', 'Section 1.02', 'Section 2.01', 'Section 2.02', 'Section 2.03', 'Section 2.04', 'Section 2.05', 'Section 2.06', 'Section 2.07', 'Section 2.08']\n",
      "contract_95\n",
      "number of sub sections is 83\n",
      "first 10 section number is ['1.1', '1.2', '2.1', '2.2', '2.3', '2.4', '2.5', '2.6', '3.1', '3.2']\n",
      "contract_49\n",
      "number of sub sections is 87\n",
      "first 10 section number is ['1.1', '1.2', '1.3', '1.4', '1.5', '2.1', '2.2', '2.3', '2.4', '2.5']\n",
      "contract_36\n",
      "number of sub sections is 97\n",
      "first 10 section number is ['Section 1.1', 'Section 2.1', 'Section 2.2', 'Section 2.3', 'Section 2.4', 'Section 2.5', 'Section 2.6', 'Section 3.1', 'Section 3.2', 'Section 3.3']\n",
      "contract_84\n",
      "number of sub sections is 292\n",
      "first 10 section number is ['Section 1.1', 'Section 1.2', 'Section 2.1', 'Section 2.2', 'Section 2.3', 'Section 2.4', 'Section 2.5', 'Section 2.6', 'Section 2.7', 'Section 3.1']\n",
      "contract_88\n",
      "number of sub sections is 75\n",
      "first 10 section number is ['Section 1.1', 'Section 1.2', 'Section 2.1', 'Section 2.2', 'Section 2.3', 'Section 2.4', 'Section 2.5', 'Section 2.6', 'Section 3.1', 'Section 3.2']\n",
      "contract_121\n",
      "number of sub sections is 116\n",
      "first 10 section number is ['Section 1.1', 'Section 1.2', 'Section 2.1', 'Section 2.2', 'Section 2.3', 'Section 2.4', 'Section 2.5', 'Section 2.6', 'Section 2.7', 'Section 2.8']\n",
      "contract_109\n",
      "number of sub sections is 119\n",
      "first 10 section number is ['1.1', '1.2', '1.3', '1.4', '1.5', '1.6', '1.7', '1.8', '1.9', '1.1']\n",
      "contract_114\n",
      "number of sub sections is 96\n",
      "first 10 section number is ['Section 1.1', 'Section 1.2', 'Section 1.3', 'Section 1.4', 'Section 1.5', 'Section 1.6', 'Section 1.7', 'Section 2.1', 'Section 2.2', 'Section 2.3']\n",
      "contract_111\n",
      "number of sub sections is 106\n",
      "first 10 section number is ['1.1', '2.1', '2.2', '2.4', '2.5', '2.6', '2.7', '2.8', '2.9', '2.1']\n",
      "contract_83\n",
      "number of sub sections is 94\n",
      "first 10 section number is ['Section 1.01.', 'Section 1.02.', 'Section 2.01.', 'Section 2.02.', 'Section 2.03.', 'Section 2.04.', 'Section 2.05.', 'Section 2.06.', 'Section 2.07.', 'Section 2.08.']\n",
      "contract_78\n",
      "number of sub sections is 82\n",
      "first 10 section number is ['Section 1.1.', 'Section 1.2.', 'Section 1.3.', 'Section 2.1.', 'Section 2.2.', 'Section 3.1.', 'Section 3.2.', 'Section 3.3.', 'Section 3.4.', 'Section 3.5.']\n",
      "contract_6\n",
      "number of sub sections is 61\n",
      "first 10 section number is ['A.', 'B.', 'C.', 'D.', 'E.', 'F.', 'G.', '1.1', '1.2', '1.3']\n",
      "contract_115\n",
      "number of sub sections is 126\n",
      "first 10 section number is ['Section 1.01', 'Section 1.02', 'Section 2.01', 'Section 2.02', 'Section 2.03', 'Section 2.04', 'Section 2.05', 'Section 2.06', 'Section 2.07', 'Section 2.08']\n",
      "contract_24\n",
      "number of sub sections is 112\n",
      "first 10 section number is ['1.1', '1.2', '2.1', '2.2', '2.3', '2.4', '2.5', '2.6', '2.7', '3.1']\n",
      "contract_106\n",
      "number of sub sections is 48\n",
      "first 10 section number is ['2.01', '2.02', '3.02', '3.03', '3.04', '4.01', '4.02', '4.03', '5.01', '5.02']\n",
      "segment_start_index for contract_23 is [1631, 8771, 9460, 9607, 9806, 10236, 11573, 11596, 12769, 12910, 13028, 13135, 13292, 13427, 13496, 13568, 13850, 14039, 14358, 14539, 14793, 15267, 15665, 16617, 16920, 17086, 17291, 17547, 17667, 17741, 18800, 20148, 21148, 22171, 22635, 24300, 24598, 24734, 25095, 25330, 25401, 25491, 25610, 25682, 26323, 26597, 27231, 27500, 28027, 28422, 29471, 29773, 29932, 30126, 30381, 30496, 30566, 31569, 32850, 33821, 34654, 35102, 36561, 36867, 36999, 37345, 37572, 37642, 37723, 37792, 38310, 40275, 41768, 43479, 45172, 45668, 47171, 48996, 50183, 50442, 51501, 52355, 52436, 52497, 52567, 52696, 53093, 53225, 54497, 54600, 54694, 54973, 55416, 55884, 55951, 57453, 57647, 59084, 59481, 59535, 59719, 59808, 60053, 60238, 60306, 60685, 60840, 60970, 61033, 61167]\n",
      "segment_start_index for contract_95 is [960, 983, 1087, 1217, 1433, 2517, 5458, 5757, 6215, 6649, 7538, 8300, 9171, 11199, 11442, 12842, 13903, 14152, 16166, 16667, 17510, 18510, 18667, 18925, 20969, 23398, 23519, 26199, 27269, 28010, 29683, 31099, 32018, 32249, 32350, 34640, 36844, 38208, 38436, 38793, 38826, 38879, 39963, 40194, 40678]\n",
      "segment_start_index for contract_49 is [1120, 1157, 1280, 1524, 1741, 1825, 2203, 3549, 4637, 4915, 5070, 5278, 5466, 6696, 7134, 8062, 9098, 9192, 9330, 10104, 10461, 11561, 11768, 11868, 12162, 13274, 13726, 13883, 14377, 14470, 14565, 14647, 14755, 14945, 15679, 15787, 15829, 16771, 16922, 17291, 17496, 17591, 17712, 17770, 17912, 18443, 18753, 20826, 20925, 22605, 22692, 23087, 24106, 24221, 25277, 25499, 25949, 26047, 26124, 26204, 26359, 27157, 31006, 32512, 32591, 32722, 32944, 33364, 34691, 34835, 35627, 35849, 36108, 43648, 43679, 43992, 44085, 44540, 44798, 45030, 45190, 45568, 45631, 46950, 47391, 47602, 47728]\n",
      "segment_start_index for contract_36 is [1709, 1738, 1813, 2093, 2300, 2417, 2508, 2562, 3128, 4656, 5710, 5832, 6120, 6396, 6582, 7578, 7936, 8440, 8631, 9090, 9248, 9423, 9604, 9857, 10011, 10874, 11118, 11690, 12289, 13238, 13461, 13778, 13841, 13950, 14021, 14116, 14179, 14479, 14681, 14719, 15341, 15533, 15893, 16335, 16468, 16609, 16748, 18073, 18257, 18377, 18475, 18534, 18900, 18974, 19061, 19952, 21742, 22836, 24266, 24813, 27692, 28965, 29104, 29314, 30426, 30533, 32508, 34182, 34706, 34799, 34873, 34950, 35015, 35119, 35173, 35280, 35566, 36096, 36337, 37381, 37739, 39092, 39249, 39432, 39625, 39720, 39956, 40759, 40953, 41171, 41231, 41341, 41832, 42690, 43093, 43142, 43290]\n",
      "segment_start_index for contract_84 is [2198, 9773, 10323, 11798, 11958, 12181, 12393, 12441, 12722, 13374, 13716, 13937, 14192, 14284, 15049, 15312, 16838, 16952, 17073, 17337, 17742, 18320, 18423, 19691, 20290, 20851, 22218, 23475, 23581, 23734, 23893, 25799, 26705, 27563, 27952, 28523, 29729, 30823, 31062, 31153, 31257, 31293, 31398, 31471, 32041, 32721, 32846, 33942, 34359, 34896, 36260, 37472, 37585, 37736, 37887, 39745, 40237, 41044, 41449, 42008, 43118, 43539, 43760, 43858, 43928, 43954, 44051, 45010, 45072, 45298, 45472, 45700, 46170, 46332, 46934, 50577, 52595, 52676, 52903, 54678, 54751, 56140, 58666, 60605, 60752, 62422, 63668, 64117, 64199, 64245, 64535, 64671, 66280, 66343, 67302, 68236, 68374, 68406, 68531, 68622, 68625, 72268, 73172, 73609, 74084, 74268, 74386, 74689, 76155, 77270, 78062, 78358, 80966, 81042, 81349, 81576, 81683, 82003, 82283, 82385, 82627, 82745, 83149, 83325, 83904]\n",
      "segment_start_index for contract_88 is [972, 1076, 1473, 1785, 1949, 2274, 3912, 4049, 5676, 6162, 7053, 7487, 7950, 9724, 9823, 9929, 11687, 12493, 12765, 13029, 13415, 13822, 15260]\n",
      "segment_start_index for contract_121 is [1533, 7994, 8690, 8778, 8917, 9036, 9112, 9153, 9333, 9388, 9539, 11170, 13075, 13188, 13299, 13348, 13477, 13941, 14476, 14543, 15604, 15987, 16588, 17038, 18073, 18163, 18263, 18411, 18537, 20478, 22264, 22615, 23069, 23508, 26036, 27009, 27258, 27338, 27405, 27491, 27516, 27657, 27808, 28441, 29007, 29074, 29863, 30295, 30877, 31326, 32361, 32451, 32551, 32714, 32840, 34587, 36075, 36426, 36873, 37312, 39831, 40805, 41042, 41105, 41176, 41277, 41302, 41420, 41565, 41619, 41874, 41966, 45450, 48952, 49053, 50673, 51402, 54343, 57280, 57495, 59292, 60077, 60578, 60754, 60859, 60981, 61441, 61544, 61702, 62275, 63904, 64659, 64713, 65782, 66009, 66097, 66180, 66421, 67136, 69281, 69557, 73644, 73820, 73948, 74033, 74301, 74528, 74638, 74687, 74893, 75034, 75129, 75490, 75583, 75691, 75813]\n",
      "segment_start_index for contract_109 is [1781, 1867, 2069, 2166, 2195, 2873, 3000, 3139, 4138, 4205, 4268, 4348, 4404, 5016, 5216, 5389, 7396, 8589, 9697, 10437, 11083, 11461, 12475, 12588, 12700, 12925, 13709, 15933, 16198, 17491, 18542, 18769, 18978, 19370, 19531, 19852, 20450, 20562, 20714, 20842, 20889, 21012, 21287, 22055, 22357, 22768, 23139, 23893, 24442, 25453, 26408, 26876, 27205, 28177, 28239, 28357, 28567, 29073, 29773, 30039, 31156, 31514, 31738, 31845, 31887, 32041, 32198, 32298, 32344, 32446, 32641, 32863, 33224, 33533, 35670, 35983, 37120, 37662, 38837, 39043, 39184, 41449, 42075, 42857, 42972, 43201, 43335, 43510, 43743, 43868, 44865, 45041, 45195, 45359, 45526, 45723, 45784, 46084, 46286, 46574, 47248, 47923, 48521, 49709, 49827, 50049, 50125, 50204, 50402, 50918, 51395, 51450, 51496, 51753, 51928, 52238, 52367, 52481, 52590]\n",
      "segment_start_index for contract_114 is [1174, 1254, 1389, 1413, 2248, 4121, 4358, 4405, 4696, 5895, 6973, 7237, 7581, 7988, 8723, 9113, 9607, 9931, 10388, 10644, 10773, 11654, 11813, 12785, 13178, 13982, 14337, 15384, 15645, 15848, 17204, 17277, 17383, 17508, 17669, 17727, 17853, 18147, 18310, 18345, 18783, 19001, 19353, 19769, 20869, 21053, 21193, 21315, 21417, 21484, 21588, 21617, 21760, 21988, 22376, 25469, 25688, 25754, 26168, 27225, 27513, 27974, 29055, 31517, 34447, 35654, 36042, 36909, 37945, 38049, 38392, 38553, 38748, 38847, 38938, 39014, 39265, 40497, 40702, 43222, 43278, 43431, 43534, 44044, 44790, 44863, 45207, 45405, 45491, 45531, 45593, 45743, 45934, 45989, 46612, 47109]\n",
      "segment_start_index for contract_111 is [2106, 10792, 12766, 14337, 14521, 14814, 15019, 15202, 15533, 15717, 17204, 19743, 21810, 22131, 22287, 22412, 22476, 22858, 23087, 23335, 23856, 23902, 24146, 24357, 25837, 26480, 26679, 27392, 27512, 27617, 27904, 28284, 28550, 30429, 31025, 32526, 33171, 33270, 33429, 33538, 33661, 33751, 33810, 34722, 34908, 35091, 35373, 35721, 35845, 35934, 35994, 36135, 36263, 36348, 37188, 37446, 37720, 37984, 38425, 38673, 40741, 43653, 44193, 45149, 46294, 46296, 46802, 49711, 49824, 50270, 50336, 51996, 53419, 53538, 54106, 54383, 54611, 54717, 54861, 54956, 55061, 55266, 55437, 55542, 55684, 55741, 55922, 57063, 57415, 59478, 59656, 59851, 59994, 60044, 60450, 60697, 60894, 61058, 61690, 61798, 62563, 62653, 63325, 63504, 63635, 63826]\n",
      "segment_start_index for contract_83 is [875, 7302, 7877, 8346, 8625, 9272, 9467, 10286, 10382, 10497, 10617, 10658, 10746, 10803, 10854, 10966, 11145, 11422, 11603, 11844, 12487, 12894, 13326, 13445, 13622, 13746, 13867, 14242, 14355, 14979, 15637, 16809, 17855, 18482, 18792, 19611, 19730, 19832, 19924, 20029, 20137, 20302, 20498, 20666, 20879, 21019, 21115, 21202, 22155, 22227, 22291, 22346, 22601, 22875, 24374, 24724, 25059, 27390, 27468, 29938, 29961, 31029, 32167, 32202, 33669, 33778, 35310, 35850, 36123, 36149, 36233, 36415, 36582, 36681, 36728, 36894, 37050, 37499, 37702, 37774, 38714, 38889, 39126, 39219, 39526, 40954, 41126, 41400, 41555, 41947, 42021, 42126, 42176, 42310]\n",
      "segment_start_index for contract_78 is [1092, 1149, 1271, 1457, 1516, 1648, 2073, 3307, 3685, 4777, 5147, 5477, 6383, 6863, 7173, 7731, 8254, 8455, 8627, 9570, 9833, 11383, 12358, 12605, 12839, 13642, 13796, 15456, 16137, 17191, 17381, 17555, 17665, 17814, 17871, 18077, 18199, 18358, 18709, 18770, 18943, 19042, 19104, 19181, 19233, 19293, 19702, 22581, 25150, 26589, 27241, 28652, 29055, 30086, 30185, 30234, 31250, 31331, 31374, 31415, 31471, 31578, 31987, 32056, 32184, 32367, 32883, 33247, 34314, 35162, 35439, 35509, 35541, 35596, 35863, 36236, 36322, 36515, 36638, 37080, 37218, 37364]\n",
      "segment_start_index for contract_6 is [538, 727, 825, 908, 974, 1101, 1158, 5197, 5347, 5449, 5547, 6071, 6303, 7409, 7575, 7719, 8069, 8116, 17626, 20086, 23612, 23754, 24692, 25043, 25105, 25158, 25464, 25774, 25921, 25964, 25995, 26095, 26531, 26748, 26976, 27182, 27220, 27353, 27432, 27511, 28402, 29110, 29155, 29526, 30190, 30315, 30487, 30725, 30955, 31959, 32063, 32396, 32553, 32724, 33047, 33201, 33309, 33533, 33655, 33702, 33807]\n",
      "segment_start_index for contract_115 is [1126, 6224, 6898, 7037, 7457, 7503, 7827, 7978, 8060, 8348, 8486, 8841, 9446, 9568, 9668, 9720, 9869, 10213, 10514, 11012, 11346, 11552, 12117, 12372, 12618, 13510, 13608, 14510, 14654, 15335, 15665, 16626, 17574, 18168, 18597, 18719, 18988, 19182, 19273, 19396, 19461, 19524, 19782, 20217, 20421, 20618, 21123, 21228, 21250, 21363, 21419, 21508, 21604, 21661, 21879, 23463, 23992, 25217, 25686, 26126, 27882, 28088, 29737, 30714, 30815, 30859, 30976, 31140, 31239, 31374, 31510, 31876, 32198, 33124, 33868, 34003, 34127, 34357, 34664, 35005, 35260, 35335, 35444, 35786, 36005, 36381, 36435, 36929, 36999, 37093, 37215, 37264, 37457, 37675, 37735, 37798, 37897, 37933, 37986, 38081, 38189, 38295, 38368, 38429, 38588, 38707, 38936, 39056, 39158, 39202, 39370, 39458, 39588, 39757, 39881, 39937, 40000, 40295, 40591, 41046, 41183, 41252, 41356, 41570, 41640, 41798]\n",
      "segment_start_index for contract_24 is [1225, 1254, 1704, 1787, 2026, 2118, 2456, 2615, 2691, 3101, 3827, 5033, 7686, 7873, 8170, 9109, 9717, 9965, 10880, 11025, 11282, 11544, 11844, 12682, 13282, 13860, 13940, 14472, 14934, 15236, 16547, 17092, 17622, 17853, 18182, 18327, 18377, 18640, 18773, 18841, 19403, 19700, 20553, 21295, 21496, 22400, 22542, 22799, 23024, 23324, 24163, 24763, 25342, 25422, 25956, 26418, 26693, 27985, 28506, 29039, 29270, 29600, 29652, 29700, 29962, 30095, 30130, 30208, 30592, 32704, 34762, 38062, 41367, 42140, 43774, 44695, 45322, 46616, 47751, 47925, 48209, 48359, 48573, 48664, 48900, 49074, 49360, 49427, 49454, 49655, 49901, 50466, 51178, 51247, 51876, 52028, 53527, 53560, 53700, 53990, 55124, 55195, 55365, 55736, 55956, 56039, 56236, 56583, 56673, 56676, 56890, 56896]\n",
      "segment_start_index for contract_106 is [4906, 5121, 5687, 5780, 7327, 8025, 8591, 19648, 23310, 25889, 26264, 26365, 26940, 27066, 28233, 28667, 29224, 29451, 30006, 30786, 31803, 31976, 32387, 32675, 32796, 33143, 33257, 33369, 33493, 33674, 33892, 34050, 34526, 35428, 36209, 36707, 36781, 36888, 36925, 37288, 37475, 37510, 37733, 37856, 37909, 38047, 38146, 38238]\n",
      "Create features with original sliding windows......\n"
     ]
    },
    {
     "metadata": {
      "tags": null
     },
     "name": "stderr",
     "output_type": "stream",
     "text": [
      "100%|██████████| 16/16 [00:02<00:00,  6.36it/s]\n",
      "convert squad examples to features:   0%|          | 0/16 [00:00<?, ?it/s]"
     ]
    },
    {
     "metadata": {
      "tags": null
     },
     "name": "stdout",
     "output_type": "stream",
     "text": [
      "Number of sliding windows for question contract_23_Breach of Meeting Covenant is 316\n",
      "Number of sliding windows for question contract_95_Breach of Meeting Covenant is 246\n",
      "Number of sliding windows for question contract_49_Breach of Meeting Covenant is 263\n",
      "Number of sliding windows for question contract_36_Breach of Meeting Covenant is 257\n",
      "Number of sliding windows for question contract_84_Breach of Meeting Covenant is 454\n",
      "Number of sliding windows for question contract_88_Breach of Meeting Covenant is 83\n",
      "Number of sliding windows for question contract_121_Breach of Meeting Covenant is 386\n",
      "Number of sliding windows for question contract_109_Breach of Meeting Covenant is 316\n",
      "Number of sliding windows for question contract_114_Breach of Meeting Covenant is 272\n",
      "Number of sliding windows for question contract_111_Breach of Meeting Covenant is 338\n",
      "Number of sliding windows for question contract_83_Breach of Meeting Covenant is 220\n",
      "Number of sliding windows for question contract_78_Breach of Meeting Covenant is 218\n",
      "Number of sliding windows for question contract_6_Breach of Meeting Covenant is 180\n",
      "Number of sliding windows for question contract_115_Breach of Meeting Covenant is 211\n",
      "Number of sliding windows for question contract_24_Breach of Meeting Covenant is 346\n",
      "Number of sliding windows for question contract_106_Breach of Meeting Covenant is 195\n"
     ]
    },
    {
     "metadata": {
      "tags": null
     },
     "name": "stderr",
     "output_type": "stream",
     "text": [
      "convert squad examples to features: 100%|██████████| 16/16 [08:58<00:00, 33.66s/it]  \n",
      "add example index and unique id: 100%|██████████| 16/16 [00:00<00:00, 4649.68it/s]\n"
     ]
    },
    {
     "metadata": {
      "tags": null
     },
     "name": "stdout",
     "output_type": "stream",
     "text": [
      "features length =  4301\n",
      "\n",
      "9.00 min\n",
      "Create features with new sliding windows......\n"
     ]
    },
    {
     "metadata": {
      "tags": null
     },
     "name": "stderr",
     "output_type": "stream",
     "text": [
      "100%|██████████| 16/16 [00:02<00:00,  6.51it/s]\n",
      "convert squad examples to features:   0%|          | 0/16 [00:00<?, ?it/s]"
     ]
    },
    {
     "metadata": {
      "tags": null
     },
     "name": "stdout",
     "output_type": "stream",
     "text": [
      "Number of sliding windows for question contract_23_Breach of Meeting Covenant is 355\n",
      "Number of sliding windows for question contract_95_Breach of Meeting Covenant is 269\n",
      "Number of sliding windows for question contract_49_Breach of Meeting Covenant is 293\n",
      "Number of sliding windows for question contract_36_Breach of Meeting Covenant is 286\n",
      "Number of sliding windows for question contract_84_Breach of Meeting Covenant is 503\n",
      "Number of sliding windows for question contract_88_Breach of Meeting Covenant is 93\n",
      "Number of sliding windows for question contract_121_Breach of Meeting Covenant is 423\n",
      "Number of sliding windows for question contract_109_Breach of Meeting Covenant is 358\n",
      "Number of sliding windows for question contract_114_Breach of Meeting Covenant is 311\n",
      "Number of sliding windows for question contract_111_Breach of Meeting Covenant is 374\n",
      "Number of sliding windows for question contract_83_Breach of Meeting Covenant is 248\n",
      "Number of sliding windows for question contract_78_Breach of Meeting Covenant is 242\n",
      "Number of sliding windows for question contract_6_Breach of Meeting Covenant is 196\n",
      "Number of sliding windows for question contract_115_Breach of Meeting Covenant is 245\n",
      "Number of sliding windows for question contract_24_Breach of Meeting Covenant is 389\n",
      "Number of sliding windows for question contract_106_Breach of Meeting Covenant is 210\n"
     ]
    },
    {
     "name": "stderr",
     "output_type": "stream",
     "text": [
      "convert squad examples to features: 100%|██████████| 16/16 [09:20<00:00, 35.06s/it]  \n",
      "add example index and unique id: 100%|██████████| 16/16 [00:00<00:00, 4224.40it/s]\n"
     ]
    },
    {
     "name": "stdout",
     "output_type": "stream",
     "text": [
      "features length =  4795\n",
      "\n",
      "9.37 min\n"
     ]
    }
   ],
   "source": [
    "run_create_features(selected_deal_point)"
   ]
  },
  {
   "cell_type": "code",
   "execution_count": 25,
   "metadata": {
    "colab": {
     "base_uri": "https://localhost:8080/"
    },
    "id": "DMUH86oOaiIJ",
    "outputId": "c2b0b069-251b-49b5-d811-52b5c99438eb"
   },
   "outputs": [
    {
     "metadata": {
      "tags": null
     },
     "name": "stdout",
     "output_type": "stream",
     "text": [
      "\n",
      "*******************\n",
      "\n",
      "Evaluate on contract 4\n",
      "\n",
      "n_best_size=10\n",
      "\n",
      "With original sliding windows......\n",
      "Evaluation is based on n_best_size=10\n",
      "length of features is  4301\n",
      "length of dataset is  4301\n",
      "Evaluation done in total 2.44 mins (0.03 sec per example)\n",
      "exact: 6.25\n",
      "f1: 6.25\n",
      "total: 16\n",
      "HasAns_exact: 100.0\n",
      "HasAns_f1: 100.0\n",
      "HasAns_total: 1\n",
      "NoAns_exact: 0.0\n",
      "NoAns_f1: 0.0\n",
      "NoAns_total: 15\n",
      "best_exact: 93.75\n",
      "best_exact_thresh: 0.0\n",
      "best_f1: 93.75\n",
      "best_f1_thresh: 0.0\n",
      "\n",
      "With New sliding windows......\n",
      "Evaluation is based on n_best_size=10\n",
      "length of features is  4795\n",
      "length of dataset is  4795\n",
      "Evaluation done in total 2.70 mins (0.03 sec per example)\n",
      "exact: 6.25\n",
      "f1: 6.25\n",
      "total: 16\n",
      "HasAns_exact: 100.0\n",
      "HasAns_f1: 100.0\n",
      "HasAns_total: 1\n",
      "NoAns_exact: 0.0\n",
      "NoAns_f1: 0.0\n",
      "NoAns_total: 15\n",
      "best_exact: 93.75\n",
      "best_exact_thresh: 0.0\n",
      "best_f1: 93.75\n",
      "best_f1_thresh: 0.0\n",
      "/content/drive/.shortcut-targets-by-id/1QI32qih1bmZh5-UISjuEypWke0vN6OZM/Capstone for Data Science/Segmentation\n",
      "\n",
      "With original sliding windows......\n",
      "Evaluating on test split.\n",
      "recall=0.05  prec=(0.06060606060606061, 0.3099999999999994)\n",
      "recall=0.1  prec=(0.06060606060606061, 0.3099999999999994)\n",
      "recall=0.15  prec=(0.06060606060606061, 0.3099999999999994)\n",
      "recall=0.2  prec=(0.06060606060606061, 0.07999999999999918)\n",
      "recall=0.25  prec=(0.06060606060606061, 0.07999999999999918)\n",
      "recall=0.3  prec=(0.06060606060606061, 0.07999999999999918)\n",
      "recall=0.4  prec=(0, 0)\n",
      "recall=0.5  prec=(0, 0)\n",
      "AUPR: 0.020, Precision at 80% Recall: 0.000, Precision at 90% Recall: 0.000\n",
      "\n",
      "With New sliding windows......\n",
      "Evaluating on test split.\n",
      "recall=0.05  prec=(0.08333333333333333, 0.46999999999999953)\n",
      "recall=0.1  prec=(0.08333333333333333, 0.46999999999999953)\n",
      "recall=0.15  prec=(0.08333333333333333, 0.46999999999999953)\n",
      "recall=0.2  prec=(0, 0)\n",
      "recall=0.25  prec=(0, 0)\n",
      "recall=0.3  prec=(0, 0)\n",
      "recall=0.4  prec=(0, 0)\n",
      "recall=0.5  prec=(0, 0)\n",
      "AUPR: 0.014, Precision at 80% Recall: 0.000, Precision at 90% Recall: 0.000\n",
      "\n",
      "n_best_size=100\n",
      "\n",
      "With original sliding windows......\n",
      "Evaluation is based on n_best_size=100\n",
      "length of features is  4301\n",
      "length of dataset is  4301\n",
      "Evaluation done in total 2.43 mins (0.03 sec per example)\n",
      "exact: 6.25\n",
      "f1: 6.25\n",
      "total: 16\n",
      "HasAns_exact: 100.0\n",
      "HasAns_f1: 100.0\n",
      "HasAns_total: 1\n",
      "NoAns_exact: 0.0\n",
      "NoAns_f1: 0.0\n",
      "NoAns_total: 15\n",
      "best_exact: 93.75\n",
      "best_exact_thresh: 0.0\n",
      "best_f1: 93.75\n",
      "best_f1_thresh: 0.0\n",
      "\n",
      "With New sliding windows......\n",
      "Evaluation is based on n_best_size=100\n",
      "length of features is  4795\n",
      "length of dataset is  4795\n",
      "Evaluation done in total 2.70 mins (0.03 sec per example)\n",
      "exact: 6.25\n",
      "f1: 6.25\n",
      "total: 16\n",
      "HasAns_exact: 100.0\n",
      "HasAns_f1: 100.0\n",
      "HasAns_total: 1\n",
      "NoAns_exact: 0.0\n",
      "NoAns_f1: 0.0\n",
      "NoAns_total: 15\n",
      "best_exact: 93.75\n",
      "best_exact_thresh: 0.0\n",
      "best_f1: 93.75\n",
      "best_f1_thresh: 0.0\n",
      "/content/drive/.shortcut-targets-by-id/1QI32qih1bmZh5-UISjuEypWke0vN6OZM/Capstone for Data Science/Segmentation\n",
      "\n",
      "With original sliding windows......\n",
      "Evaluating on test split.\n",
      "recall=0.05  prec=(0.06060606060606061, 0.26999999999999935)\n",
      "recall=0.1  prec=(0.06060606060606061, 0.26999999999999935)\n",
      "recall=0.15  prec=(0.06060606060606061, 0.26999999999999935)\n",
      "recall=0.2  prec=(0.06060606060606061, 0.06999999999999917)\n",
      "recall=0.25  prec=(0.06060606060606061, 0.06999999999999917)\n",
      "recall=0.3  prec=(0.06060606060606061, 0.06999999999999917)\n",
      "recall=0.4  prec=(0.00546448087431694, 1e-05)\n",
      "recall=0.5  prec=(0.00546448087431694, 1e-05)\n",
      "AUPR: 0.026, Precision at 80% Recall: 0.000, Precision at 90% Recall: 0.000\n",
      "\n",
      "With New sliding windows......\n",
      "Evaluating on test split.\n",
      "recall=0.05  prec=(0.08333333333333333, 0.4199999999999995)\n",
      "recall=0.1  prec=(0.08333333333333333, 0.4199999999999995)\n",
      "recall=0.15  prec=(0.08333333333333333, 0.4199999999999995)\n",
      "recall=0.2  prec=(0.005082592121982211, 1e-05)\n",
      "recall=0.25  prec=(0.005082592121982211, 1e-05)\n",
      "recall=0.3  prec=(0.005082592121982211, 1e-05)\n",
      "recall=0.4  prec=(0.005082592121982211, 1e-05)\n",
      "recall=0.5  prec=(0.005082592121982211, 1e-05)\n",
      "AUPR: 0.018, Precision at 80% Recall: 0.000, Precision at 90% Recall: 0.000\n"
     ]
    }
   ],
   "source": [
    "run_evaluate(selected_deal_point)"
   ]
  },
  {
   "cell_type": "markdown",
   "metadata": {
    "id": "qhd47uCpvKPf"
   },
   "source": [
    "# Run - all test"
   ]
  }
 ],
 "metadata": {
  "accelerator": "GPU",
  "colab": {
   "gpuType": "T4",
   "machine_shape": "hm",
   "provenance": []
  },
  "kernelspec": {
   "display_name": "Python 3 (ipykernel)",
   "language": "python",
   "name": "python3"
  },
  "language_info": {
   "codemirror_mode": {
    "name": "ipython",
    "version": 3
   },
   "file_extension": ".py",
   "mimetype": "text/x-python",
   "name": "python",
   "nbconvert_exporter": "python",
   "pygments_lexer": "ipython3",
   "version": "3.10.7"
  }
 },
 "nbformat": 4,
 "nbformat_minor": 1
}
